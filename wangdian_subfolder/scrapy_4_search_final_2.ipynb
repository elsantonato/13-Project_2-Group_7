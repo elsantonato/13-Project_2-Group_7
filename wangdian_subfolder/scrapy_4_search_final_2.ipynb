{
 "cells": [
  {
   "cell_type": "code",
   "execution_count": 35,
   "metadata": {
    "collapsed": true
   },
   "outputs": [],
   "source": [
    "import pymongo\n",
    "import pandas as pd\n",
    "from bs4 import BeautifulSoup as bs\n",
    "import requests\n",
    "import string\n",
    "from slimit import ast\n",
    "from slimit.parser import Parser\n",
    "from slimit.visitors import nodevisitor\n",
    "from slimit import minify"
   ]
  },
  {
   "cell_type": "code",
   "execution_count": 36,
   "metadata": {
    "collapsed": true
   },
   "outputs": [],
   "source": [
    "import spacy"
   ]
  },
  {
   "cell_type": "code",
   "execution_count": 2,
   "metadata": {
    "collapsed": true
   },
   "outputs": [],
   "source": [
    "# connecting to my mongodb and get data out\n",
    "client = pymongo.MongoClient('mongodb://localhost:27017/')\n",
    "# create database\n",
    "db = client.movie_db\n",
    "# create colletions\n",
    "col = db['rotten_tomato']"
   ]
  },
  {
   "cell_type": "code",
   "execution_count": 3,
   "metadata": {
    "collapsed": true
   },
   "outputs": [],
   "source": [
    "# get pending movie list fron mongo db\n",
    "def get_latest_pending_list():\n",
    "    tomato_data = pd.DataFrame(list(col.find()))\n",
    "    goal_list = tomato_data.loc[tomato_data['critic(%)'] == 'na'][['name', 'url', 'year']].reset_index()\n",
    "    \n",
    "    return goal_list"
   ]
  },
  {
   "cell_type": "code",
   "execution_count": 13,
   "metadata": {
    "collapsed": true
   },
   "outputs": [],
   "source": [
    "#search movie in rotten tomato\n",
    "base_url = 'https://www.rottentomatoes.com/search/?search='\n",
    "# request url\n",
    "def get_html(url):\n",
    "    try:\n",
    "        r = requests.get(url, timeout=120)\n",
    "        r.raise_for_status\n",
    "        #site encoding\n",
    "        r.encoding = 'utf-8'\n",
    "        \n",
    "        return r.text\n",
    "    except:\n",
    "        print(url + 'ERROR')\n",
    "        pass\n",
    "    \n",
    "def get_movie_list(url):\n",
    "    html = get_html(url)\n",
    "    soup = bs(html, 'lxml')\n",
    "    movie_list = {}\n",
    "    try:\n",
    "        movie_list = soup.find_all('script')[32].text\n",
    "    except:\n",
    "        movie_list = 'na'\n",
    "        \n",
    "    return movie_list\n",
    "\n",
    "def get_movie_url(data, movie, year):\n",
    "    text = data\n",
    "    parser = Parser()\n",
    "    tree = parser.parse(text)\n",
    "    # put the node data into a dict\n",
    "    fields = []\n",
    "    url_s = 'to find'\n",
    "    for node in nodevisitor.visit(tree):\n",
    "        if isinstance(node, ast.Assign):\n",
    "            try:\n",
    "                field = {str(node.left.value).replace('\"',''): str(node.right.value).replace('\"','')}\n",
    "                fields.append(field)   \n",
    "            except:\n",
    "                pass\n",
    "    # check title and year\n",
    "    #print(fields)\n",
    "    for index, field in enumerate(fields):\n",
    "        try:\n",
    "            if(field['name'] == movie):\n",
    "                year_dic = fields[index + 1]\n",
    "                url = fields[index + 2]\n",
    "                \n",
    "                if year_dic['year'] == str(year):\n",
    "                    url_s = url['url']\n",
    "                \n",
    "        except:\n",
    "            pass\n",
    "        \n",
    "    return url_s"
   ]
  },
  {
   "cell_type": "code",
   "execution_count": 7,
   "metadata": {
    "collapsed": true
   },
   "outputs": [],
   "source": [
    "# crawl rating data by beautiful soup\n",
    "def get_content(url):\n",
    "    html = get_html(url)\n",
    "    soup = bs(html, 'lxml')\n",
    "    data = {}\n",
    "    try:\n",
    "        try:\n",
    "            data['critic(%)'] = soup.find('span', class_='superPageFontColor').span.text\n",
    "        except:\n",
    "            data['critic(%)'] = 'na'\n",
    "            \n",
    "        try:\n",
    "            data['critic_rate'] = soup.find('div', id='scoreStats').findChildren()[0].text[25:].strip()\n",
    "        except:\n",
    "            data['critic_rate'] = 'na'\n",
    "            \n",
    "        try:\n",
    "            data['critic_count'] = soup.find('div', id='scoreStats').findChildren()[2].text[18:].strip()\n",
    "        except:\n",
    "            data['critic_count'] = 'na'\n",
    "            \n",
    "        try:\n",
    "            data['critic_fresh'] = soup.find('div', id='scoreStats').findChildren()[7].text\n",
    "        except:\n",
    "            data['critic_fresh'] = 'na'\n",
    "        \n",
    "        try:\n",
    "            data['critic_rot'] = soup.find('div', id='scoreStats').findChildren()[10].text\n",
    "        except:\n",
    "            data['critic_rot'] = 'na'\n",
    "            \n",
    "        try:\n",
    "            data['user(%)'] = soup.find('div', class_='audience-score').find('span', class_='superPageFontColor').text[:2]\n",
    "        except:\n",
    "            data['user(%)'] = 'na'\n",
    "            \n",
    "        try:\n",
    "            data['user_rate'] = soup.find('div', class_='audience-info').findChildren()[0].contents[2].strip()\n",
    "        except:\n",
    "            data['user_rate'] = 'na'\n",
    "        \n",
    "        try:\n",
    "            data['user_number'] = soup.find('div', class_='audience-info').findChildren()[2].contents[2].strip()\n",
    "        except:\n",
    "            data['user_number'] = 'na'\n",
    "\n",
    "    except:\n",
    "        print('error')\n",
    "    \n",
    "    return data"
   ]
  },
  {
   "cell_type": "code",
   "execution_count": 33,
   "metadata": {
    "collapsed": true
   },
   "outputs": [],
   "source": [
    "# check word similarity:\n",
    "def check_similarity(name1, name2):\n",
    "    nlp = spacy.load('en')\n",
    "    check_1 = nlp(name1)\n",
    "    check_2 = nlp(name2)\n",
    "    #similarity index\n",
    "    simi_index = check_1.similarity(check_2)\n",
    "    print(simi_index)\n",
    "    return(simi_index)\n",
    "# blur check function\n",
    "def similar_check(data, movie, year):\n",
    "    movie = movie\n",
    "    year = year\n",
    "    data = data\n",
    "    \n",
    "    parser = Parser()\n",
    "    tree = parser.parse(data)\n",
    "    # put the node data into a dict\n",
    "    fields = []\n",
    "    url_s = 'to find'\n",
    "    for node in nodevisitor.visit(tree):\n",
    "        if isinstance(node, ast.Assign):\n",
    "            try:\n",
    "                field = {str(node.left.value).replace('\"',''): str(node.right.value).replace('\"','')}\n",
    "                fields.append(field)   \n",
    "            except:\n",
    "                pass\n",
    "    # check title and year\n",
    "    #print(fields)\n",
    "    for index, field in enumerate(fields):\n",
    "        try:\n",
    "            print(field['name'])\n",
    "            simi_index = check_similarity(movie, field['name'])\n",
    "            \n",
    "            # check if the movie is the one we need\n",
    "            if(simi_index >= 0.85):\n",
    "                year_dic = fields[index + 1]\n",
    "                url = fields[index + 2]\n",
    "                # check if release year match \n",
    "                if year_dic['year'] == str(year):\n",
    "                    url_s = url['url']\n",
    "                    print(url_s, simi_index)   \n",
    "                \n",
    "        except:\n",
    "            pass\n",
    "        \n",
    "    return url_s"
   ]
  },
  {
   "cell_type": "code",
   "execution_count": 22,
   "metadata": {},
   "outputs": [
    {
     "data": {
      "text/html": [
       "<div>\n",
       "<style scoped>\n",
       "    .dataframe tbody tr th:only-of-type {\n",
       "        vertical-align: middle;\n",
       "    }\n",
       "\n",
       "    .dataframe tbody tr th {\n",
       "        vertical-align: top;\n",
       "    }\n",
       "\n",
       "    .dataframe thead th {\n",
       "        text-align: right;\n",
       "    }\n",
       "</style>\n",
       "<table border=\"1\" class=\"dataframe\">\n",
       "  <thead>\n",
       "    <tr style=\"text-align: right;\">\n",
       "      <th></th>\n",
       "      <th>index</th>\n",
       "      <th>name</th>\n",
       "      <th>url</th>\n",
       "      <th>year</th>\n",
       "    </tr>\n",
       "  </thead>\n",
       "  <tbody>\n",
       "    <tr>\n",
       "      <th>0</th>\n",
       "      <td>6</td>\n",
       "      <td>The Avengers</td>\n",
       "      <td>https://www.rottentomatoes.com/m/Avengers</td>\n",
       "      <td>2012</td>\n",
       "    </tr>\n",
       "    <tr>\n",
       "      <th>1</th>\n",
       "      <td>59</td>\n",
       "      <td>It</td>\n",
       "      <td>https://www.rottentomatoes.com/m/it</td>\n",
       "      <td>2017</td>\n",
       "    </tr>\n",
       "  </tbody>\n",
       "</table>\n",
       "</div>"
      ],
      "text/plain": [
       "   index          name                                        url  year\n",
       "0      6  The Avengers  https://www.rottentomatoes.com/m/Avengers  2012\n",
       "1     59            It        https://www.rottentomatoes.com/m/it  2017"
      ]
     },
     "execution_count": 22,
     "metadata": {},
     "output_type": "execute_result"
    }
   ],
   "source": [
    "pending_list = get_latest_pending_list()\n",
    "pending_list"
   ]
  },
  {
   "cell_type": "code",
   "execution_count": 23,
   "metadata": {
    "collapsed": true
   },
   "outputs": [],
   "source": [
    "# search Avengers\n",
    "avenger_keywords = 'Avengers'\n",
    "base_movie_page_url = 'https://www.rottentomatoes.com/m/'\n",
    "avenger_url = base_movie_page_url + avenger_keywords\n",
    "avenger_data = get_content(avenger_url)"
   ]
  },
  {
   "cell_type": "code",
   "execution_count": 24,
   "metadata": {},
   "outputs": [
    {
     "data": {
      "text/plain": [
       "{'critic(%)': '92',\n",
       " 'critic_count': '341',\n",
       " 'critic_fresh': '314',\n",
       " 'critic_rate': '8/10',\n",
       " 'critic_rot': '27',\n",
       " 'user(%)': '91',\n",
       " 'user_number': '1,133,144',\n",
       " 'user_rate': '4.4/5'}"
      ]
     },
     "execution_count": 24,
     "metadata": {},
     "output_type": "execute_result"
    }
   ],
   "source": [
    "avenger_data"
   ]
  },
  {
   "cell_type": "code",
   "execution_count": 25,
   "metadata": {},
   "outputs": [
    {
     "data": {
      "text/plain": [
       "{'_id': ObjectId('5c43bee47d76e002594bdc61'),\n",
       " 'critic(%)': 'na',\n",
       " 'critic_count': '341',\n",
       " 'critic_fresh': '314',\n",
       " 'critic_rate': '8/10',\n",
       " 'critic_rot': '27',\n",
       " 'name': 'The Avengers',\n",
       " 'url': 'https://www.rottentomatoes.com/m/Avengers',\n",
       " 'user(%)': '91',\n",
       " 'user_number': '1,133,144',\n",
       " 'user_rate': '4.4/5',\n",
       " 'year': 2012}"
      ]
     },
     "execution_count": 25,
     "metadata": {},
     "output_type": "execute_result"
    }
   ],
   "source": [
    "# update avenger to mongo db\n",
    "col.find_one_and_update(\n",
    "        {\n",
    "            'name': pending_list['name'][0],\n",
    "            'year': int(pending_list['year'][0])\n",
    "        },\n",
    "        {'$set':{\n",
    "            'url': avenger_url,\n",
    "            'critic(%)': avenger_data['critic(%)'],\n",
    "            'critic_rate': avenger_data['critic_rate'],\n",
    "            'critic_count': avenger_data['critic_count'],\n",
    "            'critic_fresh': avenger_data['critic_fresh'],\n",
    "            'critic_rot': avenger_data['critic_rot'],\n",
    "            'user(%)': avenger_data['user(%)'],\n",
    "            'user_rate': avenger_data['user_rate'],\n",
    "            'user_number': avenger_data['user_number']\n",
    "        }}\n",
    "    )"
   ]
  },
  {
   "cell_type": "code",
   "execution_count": 27,
   "metadata": {},
   "outputs": [
    {
     "data": {
      "text/html": [
       "<div>\n",
       "<style scoped>\n",
       "    .dataframe tbody tr th:only-of-type {\n",
       "        vertical-align: middle;\n",
       "    }\n",
       "\n",
       "    .dataframe tbody tr th {\n",
       "        vertical-align: top;\n",
       "    }\n",
       "\n",
       "    .dataframe thead th {\n",
       "        text-align: right;\n",
       "    }\n",
       "</style>\n",
       "<table border=\"1\" class=\"dataframe\">\n",
       "  <thead>\n",
       "    <tr style=\"text-align: right;\">\n",
       "      <th></th>\n",
       "      <th>index</th>\n",
       "      <th>name</th>\n",
       "      <th>url</th>\n",
       "      <th>year</th>\n",
       "    </tr>\n",
       "  </thead>\n",
       "  <tbody>\n",
       "    <tr>\n",
       "      <th>0</th>\n",
       "      <td>59</td>\n",
       "      <td>It</td>\n",
       "      <td>https://www.rottentomatoes.com/m/it</td>\n",
       "      <td>2017</td>\n",
       "    </tr>\n",
       "  </tbody>\n",
       "</table>\n",
       "</div>"
      ],
      "text/plain": [
       "   index name                                  url  year\n",
       "0     59   It  https://www.rottentomatoes.com/m/it  2017"
      ]
     },
     "execution_count": 27,
     "metadata": {},
     "output_type": "execute_result"
    }
   ],
   "source": [
    "# search it\n",
    "final_list = get_latest_pending_list()\n",
    "final_list"
   ]
  },
  {
   "cell_type": "code",
   "execution_count": 28,
   "metadata": {
    "collapsed": true
   },
   "outputs": [],
   "source": [
    "it_keyword = 'it'\n",
    "it_url = base_url + it_keyword"
   ]
  },
  {
   "cell_type": "code",
   "execution_count": 31,
   "metadata": {},
   "outputs": [],
   "source": [
    "it_data = get_movie_list(it_url)"
   ]
  },
  {
   "cell_type": "code",
   "execution_count": 32,
   "metadata": {},
   "outputs": [
    {
     "data": {
      "text/plain": [
       "'\\n                        require([\\'jquery\\', \\'globals\\', \\'search-results\\', \\'bootstrap\\'], function($, RT, mount) {\\n                            mount($(\"#search-results-root\").get(0), RT.PrivateApiV2FrontendHost, \\'it\\', {\"actorCount\":225,\"actors\":[{\"name\":\"Yuka Itaya\",\"url\":\"/celebrity/yuka-itaya\",\"image\":\"https://resizing.flixster.com/LyDwJ2Dcq3jM1N2_1Tjhtm6tsLE=/fit-in/80x80/v1.bjs3NTI4MzY7ajsxNzk2MzsxMjAwOzMwMDs0NTA\"},{\"name\":\"Itai Tamir\",\"url\":\"/celebrity/itai_tamir\",\"image\":\"https://staticv2-4.rottentomatoes.com/static/images/redesign/poster_default_redesign.gif\"},{\"name\":\"Juzo Itami\",\"url\":\"/celebrity/juzo_itami\",\"image\":\"https://staticv2-4.rottentomatoes.com/static/images/redesign/poster_default_redesign.gif\"},{\"name\":\"Ittoku Kishibe\",\"url\":\"/celebrity/ittoku_kishibe\",\"image\":\"https://resizing.flixster.com/kBXVN7qnIpBZimQnNGHeiIy2OEk=/fit-in/80x80/v1.bjszMDU5NjI7ajsxNzk1ODsxMjAwOzMwMDsyMDA\"},{\"name\":\"Faking It Three\",\"url\":\"/celebrity/faking_it_three\",\"image\":\"https://staticv2-4.rottentomatoes.com/static/images/redesign/poster_default_redesign.gif\"},{\"name\":\"Itamar Malul\",\"url\":\"/celebrity/itamar_malul\",\"image\":\"https://staticv2-4.rottentomatoes.com/static/images/redesign/poster_default_redesign.gif\"},{\"name\":\"Itai Shcherback\",\"url\":\"/celebrity/itai_shcherback\",\"image\":\"https://staticv2-4.rottentomatoes.com/static/images/redesign/poster_default_redesign.gif\"},{\"name\":\"Itziar Atienza\",\"url\":\"/celebrity/itziar_atienza\",\"image\":\"https://staticv2-4.rottentomatoes.com/static/images/redesign/poster_default_redesign.gif\"},{\"name\":\"Ita Herbert\",\"url\":\"/celebrity/ita_herbert\",\"image\":\"https://staticv2-4.rottentomatoes.com/static/images/redesign/poster_default_redesign.gif\"},{\"name\":\"Italia Ricci\",\"url\":\"/celebrity/italia_ricci\",\"image\":\"https://resizing.flixster.com/TRVeg26BAct9zVn2TpCveTdWLcs=/fit-in/80x80/v1.cjs0NDQ3MDtqOzE3OTU1OzEyMDA7Mzg2OzM0NA\"}],\"criticCount\":7,\"critics\":[{\"name\":\"Hillel Italie\",\"url\":\"/critic/hillel-italie\",\"image\":\"https://staticv2-4.rottentomatoes.com/static/images/redesign/poster_default_redesign.gif\",\"publications\":[\"MSNBC\", \"Associated Press\"]},{\"name\":\"Clara Itzel Hernández Valladares\",\"url\":\"/critic/clara-itzel-hernandez-valladares\",\"image\":\"https://staticv2-4.rottentomatoes.com/static/images/redesign/poster_default_redesign.gif\",\"publications\":[\"Cine Premiere\"]},{\"name\":\"Itrath Syed\",\"url\":\"/critic/itrath-syed\",\"image\":\"https://staticv2-4.rottentomatoes.com/static/images/redesign/poster_default_redesign.gif\",\"publications\":[\"Georgia Straight\"]},{\"name\":\"Ilana Iturbide\",\"url\":\"/critic/ilana-iturbide\",\"image\":\"https://staticv2-4.rottentomatoes.com/static/images/redesign/poster_default_redesign.gif\",\"publications\":[\"Cine Premiere\"]},{\"name\":\"Eric Italiano\",\"url\":\"/critic/eric-italiano\",\"image\":\"https://staticv2-4.rottentomatoes.com/static/images/redesign/poster_default_redesign.gif\"},{\"name\":\"Dave Itzkoff\",\"url\":\"/critic/dave-itzkoff\",\"image\":\"https://staticv2-4.rottentomatoes.com/static/images/redesign/poster_default_redesign.gif\",\"publications\":[\"New York Times\"]},{\"name\":\"Robert Ito\",\"url\":\"/critic/robert-ito\",\"image\":\"https://staticv2-4.rottentomatoes.com/static/images/redesign/poster_default_redesign.gif\",\"publications\":[\"New York Times\"]}],\"franchiseCount\":0,\"movieCount\":2200,\"movies\":[{\"name\":\"It\",\"year\":1927,\"url\":\"/m/1010770-it\",\"image\":\"https://resizing.flixster.com/BbMBmbdhiPcyzHGyqzdsy4Emog4=/fit-in/80x80/v1.bTsxMTIwNjY5MTtqOzE4MDM5OzEyMDA7MTUxMDsyMTI0\",\"meterClass\":\"fresh\",\"meterScore\":100,\"castItems\":[{\"name\":\"Clara Bow\",\"url\":\"/celebrity/clara_bow\"},{\"name\":\"Antonio Moreno\",\"url\":\"/celebrity/antonio_moreno\"},{\"name\":\"William Austin\",\"url\":\"/celebrity/1021459-william_austin\"}],\"subline\":\"Clara Bow, Antonio Moreno, William Austin, \"},{\"name\":\"It\",\"year\":2017,\"url\":\"/m/it_2017\",\"image\":\"https://resizing.flixster.com/_03TOAcqsntD_DTvzyFWblo5x3Y=/fit-in/80x80/v1.bTsxMjM1MDg5ODtqOzE3OTYyOzEyMDA7NjQ4Ozk2MA\",\"meterClass\":\"certified_fresh\",\"meterScore\":85,\"castItems\":[{\"name\":\"Bill Skarsgård\",\"url\":\"/celebrity/bill_skarsgard\"},{\"name\":\"Jaeden Lieberher\",\"url\":\"/celebrity/jaeden_lieberher\"},{\"name\":\"Jeremy Ray Taylor\",\"url\":\"/celebrity/jeremy_ray_taylor\"}],\"subline\":\"Bill Skarsgård, Jaeden Lieberher, Jeremy Ray Taylor, \"},{\"name\":\"I.T.\",\"year\":2016,\"url\":\"/m/it_2016\",\"image\":\"https://resizing.flixster.com/RHfRbeF30G74wuTrOo68v3dZTGs=/fit-in/80x80/v1.bTsxMjE5OTAwMDtqOzE3OTYxOzEyMDA7NDM0OzY0MA\",\"meterClass\":\"rotten\",\"meterScore\":9,\"castItems\":[{\"name\":\"Pierce Brosnan\",\"url\":\"/celebrity/pierce_brosnan\"},{\"name\":\"Stefanie Scott\",\"url\":\"/celebrity/stefanie_scott\"},{\"name\":\"Anna Friel\",\"url\":\"/celebrity/anna_friel\"}],\"subline\":\"Pierce Brosnan, Stefanie Scott, Anna Friel, \"},{\"name\":\"Isn\\'t It Romantic\",\"year\":2019,\"url\":\"/m/isnt_it_romantic_2019\",\"image\":\"https://resizing.flixster.com/tbJ0hfNrYKA80faFxTiD-d0lXYg=/fit-in/80x80/v1.bTsxMjkzMTYwNDtqOzE3OTY5OzEyMDA7MTY2NTsyMjIw\",\"meterClass\":\"N/A\",\"castItems\":[{\"name\":\"Rebel Wilson\",\"url\":\"/celebrity/rebel_wilson\"},{\"name\":\"Liam Hemsworth\",\"url\":\"/celebrity/liam-hemsworth\"},{\"name\":\"Adam DeVine\",\"url\":\"/celebrity/adam_devine\"}],\"subline\":\"Rebel Wilson, Liam Hemsworth, Adam DeVine, \"},{\"name\":\"The House with a Clock in Its Walls\",\"year\":2018,\"url\":\"/m/the_house_with_a_clock_in_its_walls\",\"image\":\"https://resizing.flixster.com/7s1YzNslvJGXE80TlhOWgKnApZI=/fit-in/80x80/v1.bTsxMjc3OTkyMDtqOzE3OTY3OzEyMDA7NzkwOzEyNTE\",\"meterClass\":\"fresh\",\"meterScore\":66,\"castItems\":[{\"name\":\"Jack Black\",\"url\":\"/celebrity/jack_black\"},{\"name\":\"Cate Blanchett\",\"url\":\"/celebrity/cate_blanchett\"},{\"name\":\"Owen Vaccaro\",\"url\":\"/celebrity/owen_vaccaro\"}],\"subline\":\"Jack Black, Cate Blanchett, Owen Vaccaro, \"},{\"name\":\"Life Itself\",\"year\":2018,\"url\":\"/m/life_itself_2018\",\"image\":\"https://resizing.flixster.com/fzPoaqKhQTuXLycHXKlkXupfugg=/fit-in/80x80/v1.bTsxMjg0OTEyMztqOzE3OTY4OzEyMDA7MjI1MTszMDAx\",\"meterClass\":\"rotten\",\"meterScore\":13,\"castItems\":[{\"name\":\"Oscar Isaac\",\"url\":\"/celebrity/oscar-isaac\"},{\"name\":\"Olivia Wilde\",\"url\":\"/celebrity/olivia_wilde\"},{\"name\":\"Mandy Patinkin\",\"url\":\"/celebrity/mandy_patinkin\"}],\"subline\":\"Oscar Isaac, Olivia Wilde, Mandy Patinkin, \"},{\"name\":\"Sirius XM Presents / Jason Mraz: Have It All The Movie\",\"year\":2018,\"url\":\"/m/sirius_xm_presents_jason_mraz_have_it_all_the_movie\",\"image\":\"https://resizing.flixster.com/BOXSDhLaQVvE5BJNjUqGo2B8xRw=/fit-in/80x80/v1.bTsxMjc3NTc1NTtqOzE3OTY3OzEyMDA7MTAwMDsxNDgw\",\"meterClass\":\"N/A\",\"subline\":\"\"},{\"name\":\"Little Italy\",\"year\":2018,\"url\":\"/m/little_italy_2018\",\"image\":\"https://resizing.flixster.com/tAuSmMK9CNFdIkpW2DAEG0e_jNc=/fit-in/80x80/v1.bTsxMjc5NjQ0MjtqOzE3OTY4OzEyMDA7OTMwMDsxMzIwMA\",\"meterClass\":\"rotten\",\"meterScore\":21,\"castItems\":[{\"name\":\"Hayden Christensen\",\"url\":\"/celebrity/hayden_christensen\"},{\"name\":\"Emma Roberts\",\"url\":\"/celebrity/1167710-emma_roberts\"},{\"name\":\"Alyssa Milano\",\"url\":\"/celebrity/alyssa_milano\"}],\"subline\":\"Hayden Christensen, Emma Roberts, Alyssa Milano, \"},{\"name\":\"The House With A Clock In Its Walls & Michael Jackson\\'s Thriller In IMAX\",\"year\":2018,\"url\":\"/m/the_house_with_a_clock_in_its_walls_and_michael_jacksons_thriller_in_imax\",\"image\":\"https://staticv2-4.rottentomatoes.com/static/images/redesign/poster_default_redesign.gif\",\"meterClass\":\"N/A\",\"subline\":\"\"},{\"name\":\"RC Theatres Presents: Isn\\'t It Romantic Wine & A Movie\",\"year\":2019,\"url\":\"/m/rc_theatres_presents_isnt_it_romantic_wine_and_a_movie\",\"image\":\"https://staticv2-4.rottentomatoes.com/static/images/redesign/poster_default_redesign.gif\",\"meterClass\":\"N/A\",\"subline\":\"\"}],\"tvCount\":37,\"tvSeries\":[{\"title\":\"Make It or Break It\",\"startYear\":2009,\"endYear\":2012,\"url\":\"/tv/make_it_or_break_it\",\"meterClass\":\"fresh\",\"meterScore\":79,\"image\":\"https://resizing.flixster.com/SeTaXEeCssUc5SCpDWzqam8PFH8=/fit-in/80x80/v1.dDsxOTgzMDQ7ajsxNzk1NzsxMjAwOzY0MDs0Mjc\"},{\"title\":\"Work It\",\"startYear\":2012,\"endYear\":2012,\"url\":\"/tv/work_it/s01\",\"meterClass\":\"rotten\",\"meterScore\":5,\"image\":\"https://resizing.flixster.com/31ZADX1gg0Gtig_I6K0LA2cP1lU=/fit-in/80x80/v1.dDsxOTk5NTk7ajsxNzk1NzsxMjAwOzIyNDA7Mjk4Ng\"},{\"title\":\"Faking It\",\"startYear\":2014,\"endYear\":2016,\"url\":\"/tv/faking_it\",\"meterClass\":\"fresh\",\"meterScore\":86,\"image\":\"https://resizing.flixster.com/3cC_esPw-Sx0NfHwBcNxjJhsYaw=/fit-in/80x80/v1.dDsxMzI5MDU7ajsxNzk1NjsxMjAwOzE1MzY7MjA0OA\"},{\"title\":\"Bring It!\",\"startYear\":2014,\"endYear\":0,\"url\":\"/tv/bring_it_\",\"meterClass\":\"N/A\",\"image\":\"https://resizing.flixster.com/DxmOV_IAxr41re3hVuAjS_74Lvo=/fit-in/80x80/v1.dDs0MDk3NTY7ajsxNzk1OTsxMjAwOzMwMDA7MjIzOA\"},{\"title\":\"Nailed It!\",\"startYear\":2018,\"endYear\":2018,\"url\":\"/tv/nailed_it\",\"meterClass\":\"fresh\",\"meterScore\":91,\"image\":\"https://resizing.flixster.com/l-LUKDtme1EtEa3aoQpyyczp2YI=/fit-in/80x80/v1.dDsyODA3NDU7ajsxNzk1ODsxMjAwOzMwMDA7MzAwMA\"},{\"title\":\"Making It\",\"startYear\":2018,\"endYear\":0,\"url\":\"/tv/making_it\",\"meterClass\":\"fresh\",\"meterScore\":100,\"image\":\"https://resizing.flixster.com/K3ucjeJQ8rqUJgcsvAnSxNDhpyk=/fit-in/80x80/v1.dDszMjMwMzI7ajsxNzk1ODsxMjAwOzE1OTY7MjM5NA\"},{\"title\":\"The Thick of It\",\"startYear\":2005,\"endYear\":2012,\"url\":\"/tv/the-thick-of-it\",\"meterClass\":\"fresh\",\"meterScore\":85,\"image\":\"https://resizing.flixster.com/S0oF7XzCFhXL9Ne3qPJVk5fk6WU=/fit-in/80x80/v1.dDsyMDg5OTY7ajsxNzk1NzsxMjAwOzEyMDA7MTYwMA\"},{\"title\":\"The IT Crowd [DELETED]\",\"startYear\":0,\"endYear\":0,\"url\":\"/tv/the-it-crowd\",\"meterClass\":\"fresh\",\"meterScore\":78,\"image\":\"https://resizing.flixster.com/y4dWOxjRu7dVgBWw_hGz-pfu1HY=/fit-in/80x80/v1.dDszOTU0ODE7ajsxNzk1OTsxMjAwOzkwMDsxMjAw\"},{\"title\":\"Deal With It\",\"startYear\":2013,\"endYear\":2014,\"url\":\"/tv/deal_with_it\",\"meterClass\":\"N/A\",\"image\":\"https://resizing.flixster.com/9rE_a5yvt8m0WI23bYsvqzsZqOI=/fit-in/80x80/v1.dDsxOTgxODM7ajsxNzk1NzsxMjAwOzIwNDg7MTUzNg\"},{\"title\":\"It Takes a Choir\",\"startYear\":2013,\"endYear\":2014,\"url\":\"/tv/it_takes_a_choir\",\"meterClass\":\"N/A\",\"image\":\"https://resizing.flixster.com/kthwvtsi43sxJ3OkGxDgq-bEcFg=/fit-in/80x80/v1.dDsxOTg5NDg7ajsxNzk1NzsxMjAwOzIwNDg7MTAyNA\"}]});\\n                        });\\n                    '"
      ]
     },
     "execution_count": 32,
     "metadata": {},
     "output_type": "execute_result"
    }
   ],
   "source": [
    "it_data"
   ]
  },
  {
   "cell_type": "code",
   "execution_count": 37,
   "metadata": {},
   "outputs": [
    {
     "name": "stderr",
     "output_type": "stream",
     "text": [
      "WARNING: Couldn't write lextab module <module 'slimit.lextab' from '/anaconda3/lib/python3.6/site-packages/slimit/lextab.py'>. Won't overwrite existing lextab module\n",
      "WARNING: yacc table file version is out of date\n",
      "WARNING: Token 'LINE_COMMENT' defined, but not used\n",
      "WARNING: Token 'BLOCK_COMMENT' defined, but not used\n",
      "WARNING: Token 'LINE_TERMINATOR' defined, but not used\n",
      "WARNING: Token 'CLASS' defined, but not used\n",
      "WARNING: Token 'CONST' defined, but not used\n",
      "WARNING: Token 'ENUM' defined, but not used\n",
      "WARNING: Token 'EXPORT' defined, but not used\n",
      "WARNING: Token 'EXTENDS' defined, but not used\n",
      "WARNING: Token 'IMPORT' defined, but not used\n",
      "WARNING: Token 'SUPER' defined, but not used\n",
      "WARNING: There are 10 unused tokens\n",
      "WARNING: Couldn't create <module 'slimit.yacctab' from '/anaconda3/lib/python3.6/site-packages/slimit/yacctab.py'>. Won't overwrite existing tabmodule\n"
     ]
    },
    {
     "name": "stdout",
     "output_type": "stream",
     "text": [
      "Yuka Itaya\n",
      "0.18694309388057606\n",
      "Itai Tamir\n",
      "0.23591353747208144\n",
      "Juzo Itami\n",
      "0.23493180277615083\n",
      "Ittoku Kishibe\n",
      "0.24966582555345412\n",
      "Faking It Three\n",
      "0.5107553355237401\n",
      "Itamar Malul\n",
      "0.1786697076152848\n",
      "Itai Shcherback\n",
      "0.24032276735411834\n",
      "Itziar Atienza\n",
      "0.14312700941778767\n",
      "Ita Herbert\n",
      "0.25336388820421274\n",
      "Italia Ricci\n",
      "0.2391116881117965\n",
      "Hillel Italie\n",
      "0.20013776170061984\n",
      "Clara Itzel Hernández Valladares\n",
      "0.214901993934344\n",
      "Itrath Syed\n",
      "0.3002794477932882\n",
      "Ilana Iturbide\n",
      "0.1794596094776356\n",
      "Eric Italiano\n",
      "0.18826643876926222\n",
      "Dave Itzkoff\n",
      "0.27113385736816026\n",
      "Robert Ito\n",
      "0.29447288866943083\n",
      "It\n",
      "1.0\n",
      "Clara Bow\n",
      "0.29164271745754566\n",
      "Antonio Moreno\n",
      "0.22527613571210117\n",
      "William Austin\n",
      "0.20749722173771487\n",
      "It\n",
      "1.0\n",
      "/m/it_2017 1.0\n",
      "Bill Skarsgård\n",
      "0.28176141251054787\n",
      "Jaeden Lieberher\n",
      "0.32602719687030624\n",
      "Jeremy Ray Taylor\n",
      "0.2648041108450863\n",
      "I.T.\n",
      "0.5364551674983981\n",
      "Pierce Brosnan\n",
      "0.1997260022641677\n",
      "Stefanie Scott\n",
      "0.17098467265311937\n",
      "Anna Friel\n",
      "0.2157583056264939\n",
      "Isn't It Romantic\n",
      "0.2812797239932239\n",
      "Rebel Wilson\n",
      "0.22854749297435972\n",
      "Liam Hemsworth\n",
      "0.18062476688799975\n",
      "Adam DeVine\n",
      "0.33697238979314653\n",
      "The House with a Clock in Its Walls\n",
      "0.23116555387061566\n",
      "Jack Black\n",
      "0.2280654168268647\n",
      "Cate Blanchett\n",
      "0.23159513403018975\n",
      "Owen Vaccaro\n",
      "0.23506116357426227\n",
      "Life Itself\n",
      "0.5695541793070783\n",
      "Oscar Isaac\n",
      "0.32922006004906756\n",
      "Olivia Wilde\n",
      "0.16390774550450843\n",
      "Mandy Patinkin\n",
      "0.3365322867484874\n",
      "Sirius XM Presents / Jason Mraz: Have It All The Movie\n",
      "0.18447472587521566\n",
      "Little Italy\n",
      "0.19605633454025306\n",
      "Hayden Christensen\n",
      "0.2618311445219613\n",
      "Emma Roberts\n",
      "0.2212926809139549\n",
      "Alyssa Milano\n",
      "0.2746517573880705\n",
      "The House With A Clock In Its Walls & Michael Jackson's Thriller In IMAX\n",
      "0.16869948218114936\n",
      "RC Theatres Presents: Isn't It Romantic Wine & A Movie\n",
      "0.19820003761998295\n"
     ]
    },
    {
     "data": {
      "text/plain": [
       "'/m/it_2017'"
      ]
     },
     "execution_count": 37,
     "metadata": {},
     "output_type": "execute_result"
    }
   ],
   "source": [
    "it_url_find = similar_check(it_data, 'It', '2017')\n",
    "it_url_find"
   ]
  },
  {
   "cell_type": "code",
   "execution_count": 42,
   "metadata": {},
   "outputs": [],
   "source": [
    "# get it data from movie page\n",
    "it_data_find = get_content('https://www.rottentomatoes.com' + it_url_find)"
   ]
  },
  {
   "cell_type": "code",
   "execution_count": 43,
   "metadata": {},
   "outputs": [
    {
     "data": {
      "text/plain": [
       "{'critic(%)': '85',\n",
       " 'critic_count': '341',\n",
       " 'critic_fresh': '290',\n",
       " 'critic_rate': '7.2/10',\n",
       " 'critic_rot': '51',\n",
       " 'user(%)': '84',\n",
       " 'user_number': '64,812',\n",
       " 'user_rate': '4.1/5'}"
      ]
     },
     "execution_count": 43,
     "metadata": {},
     "output_type": "execute_result"
    }
   ],
   "source": [
    "it_data_find"
   ]
  },
  {
   "cell_type": "code",
   "execution_count": 44,
   "metadata": {},
   "outputs": [
    {
     "data": {
      "text/plain": [
       "{'_id': ObjectId('5c43bee47d76e002594bdc96'),\n",
       " 'critic(%)': 'na',\n",
       " 'critic_count': 'na',\n",
       " 'critic_fresh': 'na',\n",
       " 'critic_rate': 'na',\n",
       " 'critic_rot': 'na',\n",
       " 'name': 'It',\n",
       " 'url': 'https://www.rottentomatoes.com/m/it',\n",
       " 'user(%)': 'na',\n",
       " 'user_number': 'na',\n",
       " 'user_rate': 'na',\n",
       " 'year': 2017}"
      ]
     },
     "execution_count": 44,
     "metadata": {},
     "output_type": "execute_result"
    }
   ],
   "source": [
    "# update it data to mongo db\n",
    "col.find_one_and_update(\n",
    "        {\n",
    "            'name': 'It',\n",
    "            'year': 2017\n",
    "        },\n",
    "        {'$set':{\n",
    "            'url': it_url_find,\n",
    "            'critic(%)': it_data_find['critic(%)'],\n",
    "            'critic_rate': it_data_find['critic_rate'],\n",
    "            'critic_count': it_data_find['critic_count'],\n",
    "            'critic_fresh': it_data_find['critic_fresh'],\n",
    "            'critic_rot': it_data_find['critic_rot'],\n",
    "            'user(%)': it_data_find['user(%)'],\n",
    "            'user_rate': it_data_find['user_rate'],\n",
    "            'user_number': it_data_find['user_number']\n",
    "        }}\n",
    "    )"
   ]
  },
  {
   "cell_type": "code",
   "execution_count": null,
   "metadata": {
    "collapsed": true
   },
   "outputs": [],
   "source": []
  }
 ],
 "metadata": {
  "kernelspec": {
   "display_name": "Python 3",
   "language": "python",
   "name": "python3"
  },
  "language_info": {
   "codemirror_mode": {
    "name": "ipython",
    "version": 3
   },
   "file_extension": ".py",
   "mimetype": "text/x-python",
   "name": "python",
   "nbconvert_exporter": "python",
   "pygments_lexer": "ipython3",
   "version": "3.6.3"
  }
 },
 "nbformat": 4,
 "nbformat_minor": 2
}
