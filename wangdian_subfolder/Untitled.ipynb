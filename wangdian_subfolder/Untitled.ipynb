{
 "cells": [
  {
   "cell_type": "code",
   "execution_count": 1,
   "metadata": {
    "collapsed": true
   },
   "outputs": [],
   "source": [
    "import pymongo\n",
    "import pandas as pd\n",
    "from bs4 import BeautifulSoup as bs\n",
    "import requests\n",
    "import string\n",
    "from slimit import ast\n",
    "from slimit.parser import Parser\n",
    "from slimit.visitors import nodevisitor\n",
    "from slimit import minify"
   ]
  },
  {
   "cell_type": "code",
   "execution_count": 2,
   "metadata": {
    "collapsed": true
   },
   "outputs": [],
   "source": [
    "# connecting to my mongodb and get data out\n",
    "client = pymongo.MongoClient('mongodb://localhost:27017/')\n",
    "# create database\n",
    "db = client.movie_db\n",
    "# create colletions\n",
    "col = db['rotten_tomato']"
   ]
  },
  {
   "cell_type": "code",
   "execution_count": 3,
   "metadata": {
    "collapsed": true
   },
   "outputs": [],
   "source": [
    "# get pending movie list fron mongo db\n",
    "def get_latest_pending_list():\n",
    "    tomato_data = pd.DataFrame(list(col.find()))\n",
    "    goal_list = tomato_data.loc[tomato_data['critic(%)'] == 'na'][['name', 'url', 'year']].reset_index()\n",
    "    \n",
    "    return goal_list"
   ]
  },
  {
   "cell_type": "code",
   "execution_count": 4,
   "metadata": {},
   "outputs": [
    {
     "data": {
      "text/html": [
       "<div>\n",
       "<style scoped>\n",
       "    .dataframe tbody tr th:only-of-type {\n",
       "        vertical-align: middle;\n",
       "    }\n",
       "\n",
       "    .dataframe tbody tr th {\n",
       "        vertical-align: top;\n",
       "    }\n",
       "\n",
       "    .dataframe thead th {\n",
       "        text-align: right;\n",
       "    }\n",
       "</style>\n",
       "<table border=\"1\" class=\"dataframe\">\n",
       "  <thead>\n",
       "    <tr style=\"text-align: right;\">\n",
       "      <th></th>\n",
       "      <th>index</th>\n",
       "      <th>name</th>\n",
       "      <th>url</th>\n",
       "      <th>year</th>\n",
       "    </tr>\n",
       "  </thead>\n",
       "  <tbody>\n",
       "    <tr>\n",
       "      <th>0</th>\n",
       "      <td>6</td>\n",
       "      <td>The Avengers</td>\n",
       "      <td>https://www.rottentomatoes.com/m/the_avengers</td>\n",
       "      <td>2012</td>\n",
       "    </tr>\n",
       "    <tr>\n",
       "      <th>1</th>\n",
       "      <td>59</td>\n",
       "      <td>It</td>\n",
       "      <td>https://www.rottentomatoes.com/m/it</td>\n",
       "      <td>2017</td>\n",
       "    </tr>\n",
       "  </tbody>\n",
       "</table>\n",
       "</div>"
      ],
      "text/plain": [
       "   index          name                                            url  year\n",
       "0      6  The Avengers  https://www.rottentomatoes.com/m/the_avengers  2012\n",
       "1     59            It            https://www.rottentomatoes.com/m/it  2017"
      ]
     },
     "execution_count": 4,
     "metadata": {},
     "output_type": "execute_result"
    }
   ],
   "source": [
    "pending_list = get_latest_pending_list()\n",
    "pending_list"
   ]
  },
  {
   "cell_type": "code",
   "execution_count": 5,
   "metadata": {
    "collapsed": true
   },
   "outputs": [],
   "source": [
    "#search movie in rotten tomato\n",
    "base_url = 'https://www.rottentomatoes.com/search/?search='\n",
    "# request url\n",
    "def get_html(url):\n",
    "    try:\n",
    "        r = requests.get(url, timeout=120)\n",
    "        r.raise_for_status\n",
    "        #site encoding\n",
    "        r.encoding = 'utf-8'\n",
    "        \n",
    "        return r.text\n",
    "    except:\n",
    "        print(url + 'ERROR')\n",
    "        pass\n",
    "    \n",
    "def get_movie_list(url):\n",
    "    html = get_html(url)\n",
    "    soup = bs(html, 'lxml')\n",
    "    movie_list = {}\n",
    "    try:\n",
    "        movie_list = soup.find_all('script')[32].text\n",
    "    except:\n",
    "        movie_list = 'na'\n",
    "        \n",
    "    return movie_list\n",
    "\n",
    "def get_movie_url(data, movie, year):\n",
    "    text = data\n",
    "    parser = Parser()\n",
    "    tree = parser.parse(text)\n",
    "    # put the node data into a dict\n",
    "    fields = []\n",
    "    url_s = 'to find'\n",
    "    for node in nodevisitor.visit(tree):\n",
    "        if isinstance(node, ast.Assign):\n",
    "            try:\n",
    "                field = {str(node.left.value).replace('\"',''): str(node.right.value).replace('\"','')}\n",
    "                fields.append(field)   \n",
    "            except:\n",
    "                pass\n",
    "    # check title and year\n",
    "    #print(fields)\n",
    "    for index, field in enumerate(fields):\n",
    "        try:\n",
    "            if(field['name'] == movie):\n",
    "                year_dic = fields[index + 1]\n",
    "                url = fields[index + 2]\n",
    "                \n",
    "                if year_dic['year'] == str(year):\n",
    "                    url_s = url['url']\n",
    "                \n",
    "        except:\n",
    "            pass\n",
    "        \n",
    "    return url_s"
   ]
  },
  {
   "cell_type": "code",
   "execution_count": 7,
   "metadata": {
    "collapsed": true
   },
   "outputs": [],
   "source": [
    "# crawl rating data by beautiful soup\n",
    "def get_content(url):\n",
    "    html = get_html(url)\n",
    "    soup = bs(html, 'lxml')\n",
    "    data = {}\n",
    "    try:\n",
    "        try:\n",
    "            data['critic(%)'] = soup.find('span', class_='superPageFontColor').span.text\n",
    "        except:\n",
    "            data['critic(%)'] = 'na'\n",
    "            \n",
    "        try:\n",
    "            data['critic_rate'] = soup.find('div', id='scoreStats').findChildren()[0].text[25:].strip()\n",
    "        except:\n",
    "            data['critic_rate'] = 'na'\n",
    "            \n",
    "        try:\n",
    "            data['critic_count'] = soup.find('div', id='scoreStats').findChildren()[2].text[18:].strip()\n",
    "        except:\n",
    "            data['critic_count'] = 'na'\n",
    "            \n",
    "        try:\n",
    "            data['critic_fresh'] = soup.find('div', id='scoreStats').findChildren()[7].text\n",
    "        except:\n",
    "            data['critic_fresh'] = 'na'\n",
    "        \n",
    "        try:\n",
    "            data['critic_rot'] = soup.find('div', id='scoreStats').findChildren()[10].text\n",
    "        except:\n",
    "            data['critic_rot'] = 'na'\n",
    "            \n",
    "        try:\n",
    "            data['user(%)'] = soup.find('div', class_='audience-score').find('span', class_='superPageFontColor').text[:2]\n",
    "        except:\n",
    "            data['user(%)'] = 'na'\n",
    "            \n",
    "        try:\n",
    "            data['user_rate'] = soup.find('div', class_='audience-info').findChildren()[0].contents[2].strip()\n",
    "        except:\n",
    "            data['user_rate'] = 'na'\n",
    "        \n",
    "        try:\n",
    "            data['user_number'] = soup.find('div', class_='audience-info').findChildren()[2].contents[2].strip()\n",
    "        except:\n",
    "            data['user_number'] = 'na'\n",
    "\n",
    "    except:\n",
    "        print('error')\n",
    "    \n",
    "    return data"
   ]
  },
  {
   "cell_type": "code",
   "execution_count": 8,
   "metadata": {},
   "outputs": [
    {
     "data": {
      "text/plain": [
       "'\\n                        require([\\'jquery\\', \\'globals\\', \\'search-results\\', \\'bootstrap\\'], function($, RT, mount) {\\n                            mount($(\"#search-results-root\").get(0), RT.PrivateApiV2FrontendHost, \\'It\\', {\"actorCount\":225,\"actors\":[{\"name\":\"Itzik Cohen\",\"url\":\"/celebrity/itzik_cohen\",\"image\":\"https://staticv2-4.rottentomatoes.com/static/images/redesign/poster_default_redesign.gif\"},{\"name\":\"Robert Ito\",\"url\":\"/celebrity/robert_ito\",\"image\":\"https://resizing.flixster.com/ZggedGKzSOKR1Lb59NkhfBvlKB8=/fit-in/80x80/v1.bjs4MDExODE7ajsxNzk2NDsxMjAwOzU0MDs3MjA\"},{\"name\":\"Miki Itô\",\"url\":\"/celebrity/miki-ito\",\"image\":\"https://staticv2-4.rottentomatoes.com/static/images/redesign/poster_default_redesign.gif\"},{\"name\":\"Italo Tajo\",\"url\":\"/celebrity/italo_tajo\",\"image\":\"https://staticv2-4.rottentomatoes.com/static/images/redesign/poster_default_redesign.gif\"},{\"name\":\"Faking It Three\",\"url\":\"/celebrity/faking_it_three\",\"image\":\"https://staticv2-4.rottentomatoes.com/static/images/redesign/poster_default_redesign.gif\"},{\"name\":\"Yuri Itskov\",\"url\":\"/celebrity/yuri_itskov_2\",\"image\":\"https://staticv2-4.rottentomatoes.com/static/images/redesign/poster_default_redesign.gif\"},{\"name\":\"Itay Exlroad\",\"url\":\"/celebrity/itay_exlroad\",\"image\":\"https://staticv2-4.rottentomatoes.com/static/images/redesign/poster_default_redesign.gif\"},{\"name\":\"Itamar Rotschild\",\"url\":\"/celebrity/itamar_rotschild\",\"image\":\"https://staticv2-4.rottentomatoes.com/static/images/redesign/poster_default_redesign.gif\"},{\"name\":\"Itala Bekes\",\"url\":\"/celebrity/itala_bekes_2\",\"image\":\"https://staticv2-4.rottentomatoes.com/static/images/redesign/poster_default_redesign.gif\"},{\"name\":\"Elizabeth Ito\",\"url\":\"/celebrity/elizabeth_ito\",\"image\":\"https://staticv2-4.rottentomatoes.com/static/images/redesign/poster_default_redesign.gif\"}],\"criticCount\":7,\"critics\":[{\"name\":\"Hillel Italie\",\"url\":\"/critic/hillel-italie\",\"image\":\"https://staticv2-4.rottentomatoes.com/static/images/redesign/poster_default_redesign.gif\",\"publications\":[\"MSNBC\", \"Associated Press\"]},{\"name\":\"Clara Itzel Hernández Valladares\",\"url\":\"/critic/clara-itzel-hernandez-valladares\",\"image\":\"https://staticv2-4.rottentomatoes.com/static/images/redesign/poster_default_redesign.gif\",\"publications\":[\"Cine Premiere\"]},{\"name\":\"Itrath Syed\",\"url\":\"/critic/itrath-syed\",\"image\":\"https://staticv2-4.rottentomatoes.com/static/images/redesign/poster_default_redesign.gif\",\"publications\":[\"Georgia Straight\"]},{\"name\":\"Ilana Iturbide\",\"url\":\"/critic/ilana-iturbide\",\"image\":\"https://staticv2-4.rottentomatoes.com/static/images/redesign/poster_default_redesign.gif\",\"publications\":[\"Cine Premiere\"]},{\"name\":\"Eric Italiano\",\"url\":\"/critic/eric-italiano\",\"image\":\"https://staticv2-4.rottentomatoes.com/static/images/redesign/poster_default_redesign.gif\"},{\"name\":\"Dave Itzkoff\",\"url\":\"/critic/dave-itzkoff\",\"image\":\"https://staticv2-4.rottentomatoes.com/static/images/redesign/poster_default_redesign.gif\",\"publications\":[\"New York Times\"]},{\"name\":\"Robert Ito\",\"url\":\"/critic/robert-ito\",\"image\":\"https://staticv2-4.rottentomatoes.com/static/images/redesign/poster_default_redesign.gif\",\"publications\":[\"New York Times\"]}],\"franchiseCount\":0,\"movieCount\":2200,\"movies\":[{\"name\":\"Rumor Has It\",\"year\":2005,\"url\":\"/m/rumor_has_it\",\"image\":\"https://resizing.flixster.com/U_JHqsJjI6gSnHydMU2wSMoIR0Q=/fit-in/80x80/v1.bTsxMTIwOTI3NTtqOzE4MDM5OzEyMDA7MTUzNjsyMDQ4\",\"meterClass\":\"rotten\",\"meterScore\":20,\"castItems\":[{\"name\":\"Jennifer Aniston\",\"url\":\"/celebrity/jennifer_aniston\"},{\"name\":\"Kevin Costner\",\"url\":\"/celebrity/kevin_costner\"},{\"name\":\"Shirley MacLaine\",\"url\":\"/celebrity/shirley_maclaine\"}],\"subline\":\"Jennifer Aniston, Kevin Costner, Shirley MacLaine, \"},{\"name\":\"It\\'s Complicated\",\"year\":2009,\"url\":\"/m/1208806-its_complicated\",\"image\":\"https://resizing.flixster.com/wdV6wNGcizYQ6gc_O65Iau1rfb0=/fit-in/80x80/v1.bTsxMTMxNzMwNjtqOzE4MDQwOzEyMDA7MTU5OTsyMTMy\",\"meterClass\":\"rotten\",\"meterScore\":58,\"castItems\":[{\"name\":\"Meryl Streep\",\"url\":\"/celebrity/meryl_streep\"},{\"name\":\"Alec Baldwin\",\"url\":\"/celebrity/alec_baldwin\"},{\"name\":\"Steve Martin\",\"url\":\"/celebrity/steve_martin\"}],\"subline\":\"Meryl Streep, Alec Baldwin, Steve Martin, \"},{\"name\":\"Wreck-it Ralph\",\"year\":2012,\"url\":\"/m/wreck_it_ralph\",\"image\":\"https://resizing.flixster.com/ZN0V8Yhtd6EQ_sq1WbTuCFuTiF8=/fit-in/80x80/v1.bTsxMTE2NjY0NTtqOzE4MDM5OzEyMDA7MTA4NjsxNjA5\",\"meterClass\":\"certified_fresh\",\"meterScore\":87,\"castItems\":[{\"name\":\"John C. Reilly\",\"url\":\"/celebrity/john_c_reilly\"},{\"name\":\"Sarah Silverman\",\"url\":\"/celebrity/sarah_silverman\"},{\"name\":\"Jack McBrayer\",\"url\":\"/celebrity/1180930-jack_mcbrayer\"}],\"subline\":\"John C. Reilly, Sarah Silverman, Jack McBrayer, \"},{\"name\":\"Isn\\'t It Romantic\",\"year\":2019,\"url\":\"/m/isnt_it_romantic_2019\",\"image\":\"https://resizing.flixster.com/tbJ0hfNrYKA80faFxTiD-d0lXYg=/fit-in/80x80/v1.bTsxMjkzMTYwNDtqOzE3OTY5OzEyMDA7MTY2NTsyMjIw\",\"meterClass\":\"N/A\",\"castItems\":[{\"name\":\"Rebel Wilson\",\"url\":\"/celebrity/rebel_wilson\"},{\"name\":\"Liam Hemsworth\",\"url\":\"/celebrity/liam-hemsworth\"},{\"name\":\"Adam DeVine\",\"url\":\"/celebrity/adam_devine\"}],\"subline\":\"Rebel Wilson, Liam Hemsworth, Adam DeVine, \"},{\"name\":\"The House with a Clock in Its Walls\",\"year\":2018,\"url\":\"/m/the_house_with_a_clock_in_its_walls\",\"image\":\"https://resizing.flixster.com/7s1YzNslvJGXE80TlhOWgKnApZI=/fit-in/80x80/v1.bTsxMjc3OTkyMDtqOzE3OTY3OzEyMDA7NzkwOzEyNTE\",\"meterClass\":\"fresh\",\"meterScore\":66,\"castItems\":[{\"name\":\"Jack Black\",\"url\":\"/celebrity/jack_black\"},{\"name\":\"Cate Blanchett\",\"url\":\"/celebrity/cate_blanchett\"},{\"name\":\"Owen Vaccaro\",\"url\":\"/celebrity/owen_vaccaro\"}],\"subline\":\"Jack Black, Cate Blanchett, Owen Vaccaro, \"},{\"name\":\"Life Itself\",\"year\":2018,\"url\":\"/m/life_itself_2018\",\"image\":\"https://resizing.flixster.com/fzPoaqKhQTuXLycHXKlkXupfugg=/fit-in/80x80/v1.bTsxMjg0OTEyMztqOzE3OTY4OzEyMDA7MjI1MTszMDAx\",\"meterClass\":\"rotten\",\"meterScore\":13,\"castItems\":[{\"name\":\"Oscar Isaac\",\"url\":\"/celebrity/oscar-isaac\"},{\"name\":\"Olivia Wilde\",\"url\":\"/celebrity/olivia_wilde\"},{\"name\":\"Mandy Patinkin\",\"url\":\"/celebrity/mandy_patinkin\"}],\"subline\":\"Oscar Isaac, Olivia Wilde, Mandy Patinkin, \"},{\"name\":\"Sirius XM Presents / Jason Mraz: Have It All The Movie\",\"year\":2018,\"url\":\"/m/sirius_xm_presents_jason_mraz_have_it_all_the_movie\",\"image\":\"https://resizing.flixster.com/BOXSDhLaQVvE5BJNjUqGo2B8xRw=/fit-in/80x80/v1.bTsxMjc3NTc1NTtqOzE3OTY3OzEyMDA7MTAwMDsxNDgw\",\"meterClass\":\"N/A\",\"subline\":\"\"},{\"name\":\"Little Italy\",\"year\":2018,\"url\":\"/m/little_italy_2018\",\"image\":\"https://resizing.flixster.com/tAuSmMK9CNFdIkpW2DAEG0e_jNc=/fit-in/80x80/v1.bTsxMjc5NjQ0MjtqOzE3OTY4OzEyMDA7OTMwMDsxMzIwMA\",\"meterClass\":\"rotten\",\"meterScore\":21,\"castItems\":[{\"name\":\"Hayden Christensen\",\"url\":\"/celebrity/hayden_christensen\"},{\"name\":\"Emma Roberts\",\"url\":\"/celebrity/1167710-emma_roberts\"},{\"name\":\"Alyssa Milano\",\"url\":\"/celebrity/alyssa_milano\"}],\"subline\":\"Hayden Christensen, Emma Roberts, Alyssa Milano, \"},{\"name\":\"The House With A Clock In Its Walls & Michael Jackson\\'s Thriller In IMAX\",\"year\":2018,\"url\":\"/m/the_house_with_a_clock_in_its_walls_and_michael_jacksons_thriller_in_imax\",\"image\":\"https://staticv2-4.rottentomatoes.com/static/images/redesign/poster_default_redesign.gif\",\"meterClass\":\"N/A\",\"subline\":\"\"},{\"name\":\"RC Theatres Presents: Isn\\'t It Romantic Wine & A Movie\",\"year\":2019,\"url\":\"/m/rc_theatres_presents_isnt_it_romantic_wine_and_a_movie\",\"image\":\"https://staticv2-4.rottentomatoes.com/static/images/redesign/poster_default_redesign.gif\",\"meterClass\":\"N/A\",\"subline\":\"\"}],\"tvCount\":37,\"tvSeries\":[{\"title\":\"Make It or Break It\",\"startYear\":2009,\"endYear\":2012,\"url\":\"/tv/make_it_or_break_it\",\"meterClass\":\"fresh\",\"meterScore\":79,\"image\":\"https://resizing.flixster.com/SeTaXEeCssUc5SCpDWzqam8PFH8=/fit-in/80x80/v1.dDsxOTgzMDQ7ajsxNzk1NzsxMjAwOzY0MDs0Mjc\"},{\"title\":\"Work It\",\"startYear\":2012,\"endYear\":2012,\"url\":\"/tv/work_it/s01\",\"meterClass\":\"rotten\",\"meterScore\":5,\"image\":\"https://resizing.flixster.com/31ZADX1gg0Gtig_I6K0LA2cP1lU=/fit-in/80x80/v1.dDsxOTk5NTk7ajsxNzk1NzsxMjAwOzIyNDA7Mjk4Ng\"},{\"title\":\"Faking It\",\"startYear\":2014,\"endYear\":2016,\"url\":\"/tv/faking_it\",\"meterClass\":\"fresh\",\"meterScore\":86,\"image\":\"https://resizing.flixster.com/3cC_esPw-Sx0NfHwBcNxjJhsYaw=/fit-in/80x80/v1.dDsxMzI5MDU7ajsxNzk1NjsxMjAwOzE1MzY7MjA0OA\"},{\"title\":\"Bring It!\",\"startYear\":2014,\"endYear\":0,\"url\":\"/tv/bring_it_\",\"meterClass\":\"N/A\",\"image\":\"https://resizing.flixster.com/DxmOV_IAxr41re3hVuAjS_74Lvo=/fit-in/80x80/v1.dDs0MDk3NTY7ajsxNzk1OTsxMjAwOzMwMDA7MjIzOA\"},{\"title\":\"Nailed It!\",\"startYear\":2018,\"endYear\":2018,\"url\":\"/tv/nailed_it\",\"meterClass\":\"fresh\",\"meterScore\":91,\"image\":\"https://resizing.flixster.com/l-LUKDtme1EtEa3aoQpyyczp2YI=/fit-in/80x80/v1.dDsyODA3NDU7ajsxNzk1ODsxMjAwOzMwMDA7MzAwMA\"},{\"title\":\"Making It\",\"startYear\":2018,\"endYear\":0,\"url\":\"/tv/making_it\",\"meterClass\":\"fresh\",\"meterScore\":100,\"image\":\"https://resizing.flixster.com/K3ucjeJQ8rqUJgcsvAnSxNDhpyk=/fit-in/80x80/v1.dDszMjMwMzI7ajsxNzk1ODsxMjAwOzE1OTY7MjM5NA\"},{\"title\":\"The Thick of It\",\"startYear\":2005,\"endYear\":2012,\"url\":\"/tv/the-thick-of-it\",\"meterClass\":\"fresh\",\"meterScore\":85,\"image\":\"https://resizing.flixster.com/S0oF7XzCFhXL9Ne3qPJVk5fk6WU=/fit-in/80x80/v1.dDsyMDg5OTY7ajsxNzk1NzsxMjAwOzEyMDA7MTYwMA\"},{\"title\":\"The IT Crowd [DELETED]\",\"startYear\":0,\"endYear\":0,\"url\":\"/tv/the-it-crowd\",\"meterClass\":\"fresh\",\"meterScore\":78,\"image\":\"https://resizing.flixster.com/y4dWOxjRu7dVgBWw_hGz-pfu1HY=/fit-in/80x80/v1.dDszOTU0ODE7ajsxNzk1OTsxMjAwOzkwMDsxMjAw\"},{\"title\":\"Deal With It\",\"startYear\":2013,\"endYear\":2014,\"url\":\"/tv/deal_with_it\",\"meterClass\":\"N/A\",\"image\":\"https://resizing.flixster.com/9rE_a5yvt8m0WI23bYsvqzsZqOI=/fit-in/80x80/v1.dDsxOTgxODM7ajsxNzk1NzsxMjAwOzIwNDg7MTUzNg\"},{\"title\":\"It Takes a Choir\",\"startYear\":2013,\"endYear\":2014,\"url\":\"/tv/it_takes_a_choir\",\"meterClass\":\"N/A\",\"image\":\"https://resizing.flixster.com/kthwvtsi43sxJ3OkGxDgq-bEcFg=/fit-in/80x80/v1.dDsxOTg5NDg7ajsxNzk1NzsxMjAwOzIwNDg7MTAyNA\"}]});\\n                        });\\n                    '"
      ]
     },
     "execution_count": 8,
     "metadata": {},
     "output_type": "execute_result"
    }
   ],
   "source": [
    "# get url function test\n",
    "try_url = base_url + 'It'\n",
    "data = get_movie_list(try_url)\n",
    "data"
   ]
  },
  {
   "cell_type": "code",
   "execution_count": null,
   "metadata": {
    "collapsed": true
   },
   "outputs": [],
   "source": [
    "url_find = similar_check(data, 'It', '2017')\n",
    "url_find"
   ]
  }
 ],
 "metadata": {
  "kernelspec": {
   "display_name": "Python 3",
   "language": "python",
   "name": "python3"
  },
  "language_info": {
   "codemirror_mode": {
    "name": "ipython",
    "version": 3
   },
   "file_extension": ".py",
   "mimetype": "text/x-python",
   "name": "python",
   "nbconvert_exporter": "python",
   "pygments_lexer": "ipython3",
   "version": "3.6.3"
  }
 },
 "nbformat": 4,
 "nbformat_minor": 2
}
