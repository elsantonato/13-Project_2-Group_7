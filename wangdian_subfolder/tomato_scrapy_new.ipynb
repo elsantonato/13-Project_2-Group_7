{
 "cells": [
  {
   "cell_type": "code",
   "execution_count": 32,
   "metadata": {
    "collapsed": true
   },
   "outputs": [],
   "source": [
    "import pandas as pd\n",
    "from bs4 import BeautifulSoup as bs\n",
    "import requests\n",
    "import string\n",
    "import pymongo"
   ]
  },
  {
   "cell_type": "code",
   "execution_count": 15,
   "metadata": {
    "collapsed": true
   },
   "outputs": [],
   "source": [
    "base_url = 'https://www.rottentomatoes.com/m/'\n",
    "# add the correct User-Agent\n",
    "headers = {'User-Agent': 'Mozilla/5.0 (Macintosh; Intel Mac OS X 10_13_6) AppleWebKit/537.36 (KHTML, like Gecko) Chrome/70.0.3538.77 Safari/537.36'}"
   ]
  },
  {
   "cell_type": "code",
   "execution_count": 19,
   "metadata": {
    "collapsed": true
   },
   "outputs": [],
   "source": [
    "# format url for movie with normal names\n",
    "def get_url(base_url, movie_name):\n",
    "    title = ''.join(item for item in movie_name if item not in string.punctuation)\n",
    "    tag_list = title.lower().split()\n",
    "    \n",
    "    tag = ''\n",
    "    for item in tag_list:\n",
    "        if(item != tag_list[-1]):\n",
    "            tag = tag + str(item) + '_'\n",
    "        else:\n",
    "            tag = tag + str(item)\n",
    "    \n",
    "    url = base_url + tag\n",
    "    \n",
    "    return url"
   ]
  },
  {
   "cell_type": "code",
   "execution_count": 17,
   "metadata": {},
   "outputs": [
    {
     "data": {
      "text/html": [
       "<div>\n",
       "<style scoped>\n",
       "    .dataframe tbody tr th:only-of-type {\n",
       "        vertical-align: middle;\n",
       "    }\n",
       "\n",
       "    .dataframe tbody tr th {\n",
       "        vertical-align: top;\n",
       "    }\n",
       "\n",
       "    .dataframe thead th {\n",
       "        text-align: right;\n",
       "    }\n",
       "</style>\n",
       "<table border=\"1\" class=\"dataframe\">\n",
       "  <thead>\n",
       "    <tr style=\"text-align: right;\">\n",
       "      <th></th>\n",
       "      <th>Unnamed: 0</th>\n",
       "      <th>Rank</th>\n",
       "      <th>Released</th>\n",
       "      <th>Movie</th>\n",
       "      <th>DomesticBox Office</th>\n",
       "      <th>InternationalBox Office</th>\n",
       "      <th>WorldwideBox Office</th>\n",
       "    </tr>\n",
       "  </thead>\n",
       "  <tbody>\n",
       "    <tr>\n",
       "      <th>0</th>\n",
       "      <td>0</td>\n",
       "      <td>1</td>\n",
       "      <td>2015</td>\n",
       "      <td>Star Wars Ep. VII: The Force Awakens</td>\n",
       "      <td>936662225</td>\n",
       "      <td>1116648</td>\n",
       "      <td>2053311</td>\n",
       "    </tr>\n",
       "    <tr>\n",
       "      <th>1</th>\n",
       "      <td>1</td>\n",
       "      <td>2</td>\n",
       "      <td>2009</td>\n",
       "      <td>Avatar</td>\n",
       "      <td>760507625</td>\n",
       "      <td>2015837</td>\n",
       "      <td>2776345</td>\n",
       "    </tr>\n",
       "    <tr>\n",
       "      <th>2</th>\n",
       "      <td>2</td>\n",
       "      <td>3</td>\n",
       "      <td>2018</td>\n",
       "      <td>Black Panther</td>\n",
       "      <td>700059566</td>\n",
       "      <td>648300000</td>\n",
       "      <td>1348359</td>\n",
       "    </tr>\n",
       "    <tr>\n",
       "      <th>3</th>\n",
       "      <td>3</td>\n",
       "      <td>4</td>\n",
       "      <td>2018</td>\n",
       "      <td>Avengers: Infinity War</td>\n",
       "      <td>678815482</td>\n",
       "      <td>1369988</td>\n",
       "      <td>2048803</td>\n",
       "    </tr>\n",
       "    <tr>\n",
       "      <th>4</th>\n",
       "      <td>4</td>\n",
       "      <td>5</td>\n",
       "      <td>1997</td>\n",
       "      <td>Titanic</td>\n",
       "      <td>659363944</td>\n",
       "      <td>1548844</td>\n",
       "      <td>2208208</td>\n",
       "    </tr>\n",
       "  </tbody>\n",
       "</table>\n",
       "</div>"
      ],
      "text/plain": [
       "   Unnamed: 0  Rank  Released                                 Movie  \\\n",
       "0           0     1      2015  Star Wars Ep. VII: The Force Awakens   \n",
       "1           1     2      2009                                Avatar   \n",
       "2           2     3      2018                         Black Panther   \n",
       "3           3     4      2018                Avengers: Infinity War   \n",
       "4           4     5      1997                               Titanic   \n",
       "\n",
       "   DomesticBox Office  InternationalBox Office  WorldwideBox Office  \n",
       "0           936662225                  1116648              2053311  \n",
       "1           760507625                  2015837              2776345  \n",
       "2           700059566                648300000              1348359  \n",
       "3           678815482                  1369988              2048803  \n",
       "4           659363944                  1548844              2208208  "
      ]
     },
     "execution_count": 17,
     "metadata": {},
     "output_type": "execute_result"
    }
   ],
   "source": [
    "movie_data = pd.read_csv('../movie_base.csv')\n",
    "movie_data.head()"
   ]
  },
  {
   "cell_type": "code",
   "execution_count": 21,
   "metadata": {},
   "outputs": [],
   "source": [
    "# get url list waiting to crawl\n",
    "tomato_url_list = []\n",
    "\n",
    "for movie in movie_data.Movie:\n",
    "    tomato_url_list.append(get_url(base_url, movie))"
   ]
  },
  {
   "cell_type": "code",
   "execution_count": 22,
   "metadata": {
    "collapsed": true
   },
   "outputs": [],
   "source": [
    "# request url\n",
    "def get_html(url):\n",
    "    try:\n",
    "        r = requests.get(url, timeout=30)\n",
    "        r.raise_for_status\n",
    "        #site encoding\n",
    "        r.encoding = 'utf-8'\n",
    "        return r.text\n",
    "    except:\n",
    "        print('ERROR')\n",
    "        pass"
   ]
  },
  {
   "cell_type": "code",
   "execution_count": 23,
   "metadata": {
    "collapsed": true
   },
   "outputs": [],
   "source": [
    "def get_content(url):\n",
    "    html = get_html(url)\n",
    "    soup = bs(html, 'lxml')\n",
    "    data = {}\n",
    "    try:\n",
    "        try:\n",
    "            data['cretic(%)'] = soup.find('span', class_='superPageFontColor').span.text\n",
    "        except:\n",
    "            data['cretic(%)'] = 'na'\n",
    "            \n",
    "        try:\n",
    "            data['cretic_rate'] = soup.find('div', id='scoreStats').findChildren()[0].text[25:].strip()\n",
    "        except:\n",
    "            data['cretic_rate'] = 'na'\n",
    "            \n",
    "        try:\n",
    "            data['cretic_count'] = soup.find('div', id='scoreStats').findChildren()[2].text[18:].strip()\n",
    "        except:\n",
    "            data['cretic_count'] = 'na'\n",
    "            \n",
    "        try:\n",
    "            data['cretic_fresh'] = soup.find('div', id='scoreStats').findChildren()[7].text\n",
    "        except:\n",
    "            data['cretic_fresh'] = 'na'\n",
    "        \n",
    "        try:\n",
    "            data['cretic_rot'] = soup.find('div', id='scoreStats').findChildren()[10].text\n",
    "        except:\n",
    "            data['cretic_rot'] = 'na'\n",
    "            \n",
    "        try:\n",
    "            data['user(%)'] = soup.find('div', class_='audience-score').find('span', class_='superPageFontColor').text[:2]\n",
    "        except:\n",
    "            data['user(%)'] = 'na'\n",
    "            \n",
    "        try:\n",
    "            data['user_rate'] = soup.find('div', class_='audience-info').findChildren()[0].contents[2].strip()\n",
    "        except:\n",
    "            data['user_rate'] = 'na'\n",
    "        \n",
    "        try:\n",
    "            data['user_number'] = soup.find('div', class_='audience-info').findChildren()[2].contents[2].strip()\n",
    "        except:\n",
    "            data['user_number'] = 'na'\n",
    "\n",
    "    except:\n",
    "        print('error')\n",
    "    \n",
    "    return data"
   ]
  },
  {
   "cell_type": "code",
   "execution_count": 28,
   "metadata": {},
   "outputs": [],
   "source": [
    "# get movie list data\n",
    "movie_crawl_list = []\n",
    "for url in tomato_url_list:\n",
    "    data = get_content(url)\n",
    "    movie_crawl_list.append(data)"
   ]
  },
  {
   "cell_type": "code",
   "execution_count": 39,
   "metadata": {},
   "outputs": [],
   "source": [
    "tomato_data = pd.DataFrame(data=movie_crawl_list,\n",
    "                           columns=[\"cretic(%)\", \"cretic_count\", 'cretic_fresh', 'cretic_rate', 'cretic_rot',\n",
    "                                   'user(%)', 'user_number', 'user_rate'])\n",
    "tomato_data['name'] = movie_data['Movie']\n",
    "tomato_data['url'] = tomato_url_list\n",
    "tomato_data['year'] = movie_data['Released']"
   ]
  },
  {
   "cell_type": "code",
   "execution_count": 40,
   "metadata": {},
   "outputs": [],
   "source": [
    "# save raw data to my mongoDB\n",
    "client = pymongo.MongoClient('mongodb://localhost:27017/')\n",
    "# create database\n",
    "db = client.movie_db\n",
    "# create colletions\n",
    "col = db['rotten_tomato']"
   ]
  },
  {
   "cell_type": "code",
   "execution_count": 41,
   "metadata": {},
   "outputs": [
    {
     "data": {
      "text/plain": [
       "<pymongo.results.InsertManyResult at 0x108b9be88>"
      ]
     },
     "execution_count": 41,
     "metadata": {},
     "output_type": "execute_result"
    }
   ],
   "source": [
    "col.insert_many(tomato_data.to_dict(\"records\"))"
   ]
  },
  {
   "cell_type": "code",
   "execution_count": null,
   "metadata": {
    "collapsed": true
   },
   "outputs": [],
   "source": []
  }
 ],
 "metadata": {
  "kernelspec": {
   "display_name": "Python 3",
   "language": "python",
   "name": "python3"
  },
  "language_info": {
   "codemirror_mode": {
    "name": "ipython",
    "version": 3
   },
   "file_extension": ".py",
   "mimetype": "text/x-python",
   "name": "python",
   "nbconvert_exporter": "python",
   "pygments_lexer": "ipython3",
   "version": "3.6.3"
  }
 },
 "nbformat": 4,
 "nbformat_minor": 2
}
