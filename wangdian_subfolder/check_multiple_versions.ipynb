{
 "cells": [
  {
   "cell_type": "code",
   "execution_count": 1,
   "metadata": {
    "collapsed": true
   },
   "outputs": [],
   "source": [
    "import pymongo\n",
    "import pandas as pd\n",
    "from bs4 import BeautifulSoup as bs\n",
    "import requests\n",
    "import string"
   ]
  },
  {
   "cell_type": "code",
   "execution_count": 2,
   "metadata": {
    "collapsed": true
   },
   "outputs": [],
   "source": [
    "from slimit import ast\n",
    "from slimit.parser import Parser\n",
    "from slimit.visitors import nodevisitor\n",
    "from slimit import minify"
   ]
  },
  {
   "cell_type": "code",
   "execution_count": 3,
   "metadata": {
    "collapsed": true
   },
   "outputs": [],
   "source": [
    "# connecting to my mongodb and get data out\n",
    "client = pymongo.MongoClient('mongodb://localhost:27017/')\n",
    "# create database\n",
    "db = client.movie_db\n",
    "# create colletions\n",
    "col = db['rotten_tomato']"
   ]
  },
  {
   "cell_type": "code",
   "execution_count": 4,
   "metadata": {
    "collapsed": true
   },
   "outputs": [],
   "source": [
    "# import data to dataframe\n",
    "tomato_data = pd.DataFrame(list(col.find()))\n",
    "goal_list = tomato_data.loc[tomato_data['cretic(%)'] == 'na'][['name', 'url', 'year']]"
   ]
  },
  {
   "cell_type": "code",
   "execution_count": 5,
   "metadata": {},
   "outputs": [
    {
     "data": {
      "text/html": [
       "<div>\n",
       "<style scoped>\n",
       "    .dataframe tbody tr th:only-of-type {\n",
       "        vertical-align: middle;\n",
       "    }\n",
       "\n",
       "    .dataframe tbody tr th {\n",
       "        vertical-align: top;\n",
       "    }\n",
       "\n",
       "    .dataframe thead th {\n",
       "        text-align: right;\n",
       "    }\n",
       "</style>\n",
       "<table border=\"1\" class=\"dataframe\">\n",
       "  <thead>\n",
       "    <tr style=\"text-align: right;\">\n",
       "      <th></th>\n",
       "      <th>name</th>\n",
       "      <th>url</th>\n",
       "      <th>year</th>\n",
       "    </tr>\n",
       "  </thead>\n",
       "  <tbody>\n",
       "    <tr>\n",
       "      <th>0</th>\n",
       "      <td>Star Wars Ep. VII: The Force Awakens</td>\n",
       "      <td>https://www.rottentomatoes.com/m/star_wars_ep_...</td>\n",
       "      <td>2015</td>\n",
       "    </tr>\n",
       "    <tr>\n",
       "      <th>2</th>\n",
       "      <td>Black Panther</td>\n",
       "      <td>https://www.rottentomatoes.com/m/black_panther</td>\n",
       "      <td>2018</td>\n",
       "    </tr>\n",
       "    <tr>\n",
       "      <th>6</th>\n",
       "      <td>The Avengers</td>\n",
       "      <td>https://www.rottentomatoes.com/m/the_avengers</td>\n",
       "      <td>2012</td>\n",
       "    </tr>\n",
       "    <tr>\n",
       "      <th>7</th>\n",
       "      <td>Star Wars Ep. VIII: The Last Jedi</td>\n",
       "      <td>https://www.rottentomatoes.com/m/star_wars_ep_...</td>\n",
       "      <td>2017</td>\n",
       "    </tr>\n",
       "    <tr>\n",
       "      <th>11</th>\n",
       "      <td>Beauty and the Beast</td>\n",
       "      <td>https://www.rottentomatoes.com/m/beauty_and_th...</td>\n",
       "      <td>2017</td>\n",
       "    </tr>\n",
       "    <tr>\n",
       "      <th>13</th>\n",
       "      <td>Star Wars Ep. I: The Phantom Menace</td>\n",
       "      <td>https://www.rottentomatoes.com/m/star_wars_ep_...</td>\n",
       "      <td>1999</td>\n",
       "    </tr>\n",
       "    <tr>\n",
       "      <th>14</th>\n",
       "      <td>Star Wars Ep. IV: A New Hope</td>\n",
       "      <td>https://www.rottentomatoes.com/m/star_wars_ep_...</td>\n",
       "      <td>1977</td>\n",
       "    </tr>\n",
       "    <tr>\n",
       "      <th>20</th>\n",
       "      <td>Pirates of the Caribbean: Dead Manâs Chest</td>\n",
       "      <td>https://www.rottentomatoes.com/m/pirates_of_th...</td>\n",
       "      <td>2006</td>\n",
       "    </tr>\n",
       "    <tr>\n",
       "      <th>36</th>\n",
       "      <td>Star Wars Ep. III: Revenge of the Sith</td>\n",
       "      <td>https://www.rottentomatoes.com/m/star_wars_ep_...</td>\n",
       "      <td>2005</td>\n",
       "    </tr>\n",
       "    <tr>\n",
       "      <th>38</th>\n",
       "      <td>Beauty and the Beast</td>\n",
       "      <td>https://www.rottentomatoes.com/m/beauty_and_th...</td>\n",
       "      <td>1991</td>\n",
       "    </tr>\n",
       "    <tr>\n",
       "      <th>40</th>\n",
       "      <td>The Passion of the Christ</td>\n",
       "      <td>https://www.rottentomatoes.com/m/the_passion_o...</td>\n",
       "      <td>2004</td>\n",
       "    </tr>\n",
       "    <tr>\n",
       "      <th>43</th>\n",
       "      <td>The Jungle Book</td>\n",
       "      <td>https://www.rottentomatoes.com/m/the_jungle_book</td>\n",
       "      <td>2016</td>\n",
       "    </tr>\n",
       "    <tr>\n",
       "      <th>45</th>\n",
       "      <td>Inside Out</td>\n",
       "      <td>https://www.rottentomatoes.com/m/inside_out</td>\n",
       "      <td>2015</td>\n",
       "    </tr>\n",
       "    <tr>\n",
       "      <th>54</th>\n",
       "      <td>Spider-Man: Homecoming</td>\n",
       "      <td>https://www.rottentomatoes.com/m/spiderman_hom...</td>\n",
       "      <td>2017</td>\n",
       "    </tr>\n",
       "    <tr>\n",
       "      <th>55</th>\n",
       "      <td>Alice in Wonderland</td>\n",
       "      <td>https://www.rottentomatoes.com/m/alice_in_wond...</td>\n",
       "      <td>2010</td>\n",
       "    </tr>\n",
       "    <tr>\n",
       "      <th>59</th>\n",
       "      <td>It</td>\n",
       "      <td>https://www.rottentomatoes.com/m/it</td>\n",
       "      <td>2017</td>\n",
       "    </tr>\n",
       "    <tr>\n",
       "      <th>60</th>\n",
       "      <td>Suicide Squad</td>\n",
       "      <td>https://www.rottentomatoes.com/m/suicide_squad</td>\n",
       "      <td>2016</td>\n",
       "    </tr>\n",
       "    <tr>\n",
       "      <th>63</th>\n",
       "      <td>Transformers</td>\n",
       "      <td>https://www.rottentomatoes.com/m/transformers</td>\n",
       "      <td>2007</td>\n",
       "    </tr>\n",
       "    <tr>\n",
       "      <th>70</th>\n",
       "      <td>Star Wars Ep. II: Attack of the Clones</td>\n",
       "      <td>https://www.rottentomatoes.com/m/star_wars_ep_...</td>\n",
       "      <td>2002</td>\n",
       "    </tr>\n",
       "    <tr>\n",
       "      <th>72</th>\n",
       "      <td>Star Wars Ep. VI: Return of the Jedi</td>\n",
       "      <td>https://www.rottentomatoes.com/m/star_wars_ep_...</td>\n",
       "      <td>1983</td>\n",
       "    </tr>\n",
       "    <tr>\n",
       "      <th>73</th>\n",
       "      <td>Independence Day</td>\n",
       "      <td>https://www.rottentomatoes.com/m/independence_day</td>\n",
       "      <td>1996</td>\n",
       "    </tr>\n",
       "    <tr>\n",
       "      <th>77</th>\n",
       "      <td>Harry Potter and the Half-Blood Prince</td>\n",
       "      <td>https://www.rottentomatoes.com/m/harry_potter_...</td>\n",
       "      <td>2009</td>\n",
       "    </tr>\n",
       "    <tr>\n",
       "      <th>81</th>\n",
       "      <td>The Sixth Sense</td>\n",
       "      <td>https://www.rottentomatoes.com/m/the_sixth_sense</td>\n",
       "      <td>1999</td>\n",
       "    </tr>\n",
       "    <tr>\n",
       "      <th>87</th>\n",
       "      <td>The Chronicles of Narnia: The Lion, the Witch ...</td>\n",
       "      <td>https://www.rottentomatoes.com/m/the_chronicle...</td>\n",
       "      <td>2005</td>\n",
       "    </tr>\n",
       "    <tr>\n",
       "      <th>88</th>\n",
       "      <td>Man of Steel</td>\n",
       "      <td>https://www.rottentomatoes.com/m/man_of_steel</td>\n",
       "      <td>2013</td>\n",
       "    </tr>\n",
       "    <tr>\n",
       "      <th>89</th>\n",
       "      <td>Star Wars Ep. V: The Empire Strikes Back</td>\n",
       "      <td>https://www.rottentomatoes.com/m/star_wars_ep_...</td>\n",
       "      <td>1980</td>\n",
       "    </tr>\n",
       "    <tr>\n",
       "      <th>98</th>\n",
       "      <td>Gravity</td>\n",
       "      <td>https://www.rottentomatoes.com/m/gravity</td>\n",
       "      <td>2013</td>\n",
       "    </tr>\n",
       "  </tbody>\n",
       "</table>\n",
       "</div>"
      ],
      "text/plain": [
       "                                                 name  \\\n",
       "0                Star Wars Ep. VII: The Force Awakens   \n",
       "2                                       Black Panther   \n",
       "6                                        The Avengers   \n",
       "7                   Star Wars Ep. VIII: The Last Jedi   \n",
       "11                               Beauty and the Beast   \n",
       "13                Star Wars Ep. I: The Phantom Menace   \n",
       "14                       Star Wars Ep. IV: A New Hope   \n",
       "20       Pirates of the Caribbean: Dead Manâs Chest   \n",
       "36             Star Wars Ep. III: Revenge of the Sith   \n",
       "38                               Beauty and the Beast   \n",
       "40                          The Passion of the Christ   \n",
       "43                                    The Jungle Book   \n",
       "45                                         Inside Out   \n",
       "54                             Spider-Man: Homecoming   \n",
       "55                                Alice in Wonderland   \n",
       "59                                                 It   \n",
       "60                                      Suicide Squad   \n",
       "63                                       Transformers   \n",
       "70             Star Wars Ep. II: Attack of the Clones   \n",
       "72               Star Wars Ep. VI: Return of the Jedi   \n",
       "73                                   Independence Day   \n",
       "77             Harry Potter and the Half-Blood Prince   \n",
       "81                                    The Sixth Sense   \n",
       "87  The Chronicles of Narnia: The Lion, the Witch ...   \n",
       "88                                       Man of Steel   \n",
       "89           Star Wars Ep. V: The Empire Strikes Back   \n",
       "98                                            Gravity   \n",
       "\n",
       "                                                  url  year  \n",
       "0   https://www.rottentomatoes.com/m/star_wars_ep_...  2015  \n",
       "2      https://www.rottentomatoes.com/m/black_panther  2018  \n",
       "6       https://www.rottentomatoes.com/m/the_avengers  2012  \n",
       "7   https://www.rottentomatoes.com/m/star_wars_ep_...  2017  \n",
       "11  https://www.rottentomatoes.com/m/beauty_and_th...  2017  \n",
       "13  https://www.rottentomatoes.com/m/star_wars_ep_...  1999  \n",
       "14  https://www.rottentomatoes.com/m/star_wars_ep_...  1977  \n",
       "20  https://www.rottentomatoes.com/m/pirates_of_th...  2006  \n",
       "36  https://www.rottentomatoes.com/m/star_wars_ep_...  2005  \n",
       "38  https://www.rottentomatoes.com/m/beauty_and_th...  1991  \n",
       "40  https://www.rottentomatoes.com/m/the_passion_o...  2004  \n",
       "43   https://www.rottentomatoes.com/m/the_jungle_book  2016  \n",
       "45        https://www.rottentomatoes.com/m/inside_out  2015  \n",
       "54  https://www.rottentomatoes.com/m/spiderman_hom...  2017  \n",
       "55  https://www.rottentomatoes.com/m/alice_in_wond...  2010  \n",
       "59                https://www.rottentomatoes.com/m/it  2017  \n",
       "60     https://www.rottentomatoes.com/m/suicide_squad  2016  \n",
       "63      https://www.rottentomatoes.com/m/transformers  2007  \n",
       "70  https://www.rottentomatoes.com/m/star_wars_ep_...  2002  \n",
       "72  https://www.rottentomatoes.com/m/star_wars_ep_...  1983  \n",
       "73  https://www.rottentomatoes.com/m/independence_day  1996  \n",
       "77  https://www.rottentomatoes.com/m/harry_potter_...  2009  \n",
       "81   https://www.rottentomatoes.com/m/the_sixth_sense  1999  \n",
       "87  https://www.rottentomatoes.com/m/the_chronicle...  2005  \n",
       "88      https://www.rottentomatoes.com/m/man_of_steel  2013  \n",
       "89  https://www.rottentomatoes.com/m/star_wars_ep_...  1980  \n",
       "98           https://www.rottentomatoes.com/m/gravity  2013  "
      ]
     },
     "execution_count": 5,
     "metadata": {},
     "output_type": "execute_result"
    }
   ],
   "source": [
    "goal_list"
   ]
  },
  {
   "cell_type": "code",
   "execution_count": 6,
   "metadata": {
    "collapsed": true
   },
   "outputs": [],
   "source": [
    "#search movie in rotten tomato\n",
    "base_url = 'https://www.rottentomatoes.com/search/?search='\n",
    "# request url\n",
    "def get_html(url):\n",
    "    try:\n",
    "        r = requests.get(url, timeout=30)\n",
    "        r.raise_for_status\n",
    "        #site encoding\n",
    "        r.encoding = 'utf-8'\n",
    "        \n",
    "        return r.text\n",
    "    except:\n",
    "        print(url + 'ERROR')\n",
    "        pass"
   ]
  },
  {
   "cell_type": "code",
   "execution_count": 7,
   "metadata": {
    "collapsed": true
   },
   "outputs": [],
   "source": [
    "def get_movie_list(url):\n",
    "    html = get_html(url)\n",
    "    soup = bs(html, 'lxml')\n",
    "    movie_list = {}\n",
    "    try:\n",
    "        movie_list = soup.find_all('script')[32]\n",
    "    except:\n",
    "        movie_list = 'na'\n",
    "        \n",
    "    return movie_list"
   ]
  },
  {
   "cell_type": "code",
   "execution_count": 8,
   "metadata": {
    "collapsed": true
   },
   "outputs": [],
   "source": [
    "def get_movie_url(data, movie, year):\n",
    "    text = data.text\n",
    "    parser = Parser()\n",
    "    tree = parser.parse(text)\n",
    "    # put the node data into a dict\n",
    "    fields = []\n",
    "    url_s = 'to find'\n",
    "    for node in nodevisitor.visit(tree):\n",
    "        if isinstance(node, ast.Assign):\n",
    "            try:\n",
    "                field = {str(node.left.value).replace('\"',''): str(node.right.value).replace('\"','')}\n",
    "                fields.append(field)   \n",
    "            except:\n",
    "                pass\n",
    "    # check title and year\n",
    "    #print(fields)\n",
    "    for index, field in enumerate(fields):\n",
    "        try:\n",
    "            if(field['name'] == movie):\n",
    "                year_dic = fields[index + 1]\n",
    "                url = fields[index + 2]\n",
    "                \n",
    "                if year_dic['year'] == str(year):\n",
    "                    url_s = url['url']\n",
    "                \n",
    "        except:\n",
    "            pass\n",
    "        \n",
    "    return url_s"
   ]
  },
  {
   "cell_type": "code",
   "execution_count": 218,
   "metadata": {},
   "outputs": [
    {
     "name": "stderr",
     "output_type": "stream",
     "text": [
      "WARNING: Couldn't write lextab module <module 'slimit.lextab' from '/anaconda3/lib/python3.6/site-packages/slimit/lextab.py'>. Won't overwrite existing lextab module\n",
      "WARNING: yacc table file version is out of date\n",
      "WARNING: Token 'LINE_COMMENT' defined, but not used\n",
      "WARNING: Token 'BLOCK_COMMENT' defined, but not used\n",
      "WARNING: Token 'LINE_TERMINATOR' defined, but not used\n",
      "WARNING: Token 'CLASS' defined, but not used\n",
      "WARNING: Token 'CONST' defined, but not used\n",
      "WARNING: Token 'ENUM' defined, but not used\n",
      "WARNING: Token 'EXPORT' defined, but not used\n",
      "WARNING: Token 'EXTENDS' defined, but not used\n",
      "WARNING: Token 'IMPORT' defined, but not used\n",
      "WARNING: Token 'SUPER' defined, but not used\n",
      "WARNING: There are 10 unused tokens\n",
      "WARNING: Couldn't create <module 'slimit.yacctab' from '/anaconda3/lib/python3.6/site-packages/slimit/yacctab.py'>. Won't overwrite existing tabmodule\n",
      "WARNING: Couldn't write lextab module <module 'slimit.lextab' from '/anaconda3/lib/python3.6/site-packages/slimit/lextab.py'>. Won't overwrite existing lextab module\n",
      "WARNING: yacc table file version is out of date\n",
      "WARNING: Token 'LINE_COMMENT' defined, but not used\n",
      "WARNING: Token 'BLOCK_COMMENT' defined, but not used\n",
      "WARNING: Token 'LINE_TERMINATOR' defined, but not used\n",
      "WARNING: Token 'CLASS' defined, but not used\n",
      "WARNING: Token 'CONST' defined, but not used\n",
      "WARNING: Token 'ENUM' defined, but not used\n",
      "WARNING: Token 'EXPORT' defined, but not used\n"
     ]
    },
    {
     "name": "stdout",
     "output_type": "stream",
     "text": [
      "to find\n"
     ]
    },
    {
     "name": "stderr",
     "output_type": "stream",
     "text": [
      "WARNING: Token 'EXTENDS' defined, but not used\n",
      "WARNING: Token 'IMPORT' defined, but not used\n",
      "WARNING: Token 'SUPER' defined, but not used\n",
      "WARNING: There are 10 unused tokens\n",
      "WARNING: Couldn't create <module 'slimit.yacctab' from '/anaconda3/lib/python3.6/site-packages/slimit/yacctab.py'>. Won't overwrite existing tabmodule\n"
     ]
    },
    {
     "name": "stdout",
     "output_type": "stream",
     "text": [
      "/m/black_panther_2018\n"
     ]
    },
    {
     "name": "stderr",
     "output_type": "stream",
     "text": [
      "WARNING: Couldn't write lextab module <module 'slimit.lextab' from '/anaconda3/lib/python3.6/site-packages/slimit/lextab.py'>. Won't overwrite existing lextab module\n",
      "WARNING: yacc table file version is out of date\n",
      "WARNING: Token 'LINE_COMMENT' defined, but not used\n",
      "WARNING: Token 'BLOCK_COMMENT' defined, but not used\n",
      "WARNING: Token 'LINE_TERMINATOR' defined, but not used\n",
      "WARNING: Token 'CLASS' defined, but not used\n",
      "WARNING: Token 'CONST' defined, but not used\n",
      "WARNING: Token 'ENUM' defined, but not used\n",
      "WARNING: Token 'EXPORT' defined, but not used\n",
      "WARNING: Token 'EXTENDS' defined, but not used\n",
      "WARNING: Token 'IMPORT' defined, but not used\n",
      "WARNING: Token 'SUPER' defined, but not used\n",
      "WARNING: There are 10 unused tokens\n",
      "WARNING: Couldn't create <module 'slimit.yacctab' from '/anaconda3/lib/python3.6/site-packages/slimit/yacctab.py'>. Won't overwrite existing tabmodule\n",
      "WARNING: Couldn't write lextab module <module 'slimit.lextab' from '/anaconda3/lib/python3.6/site-packages/slimit/lextab.py'>. Won't overwrite existing lextab module\n"
     ]
    },
    {
     "name": "stdout",
     "output_type": "stream",
     "text": [
      "to find\n"
     ]
    },
    {
     "name": "stderr",
     "output_type": "stream",
     "text": [
      "WARNING: yacc table file version is out of date\n",
      "WARNING: Token 'LINE_COMMENT' defined, but not used\n",
      "WARNING: Token 'BLOCK_COMMENT' defined, but not used\n",
      "WARNING: Token 'LINE_TERMINATOR' defined, but not used\n",
      "WARNING: Token 'CLASS' defined, but not used\n",
      "WARNING: Token 'CONST' defined, but not used\n",
      "WARNING: Token 'ENUM' defined, but not used\n",
      "WARNING: Token 'EXPORT' defined, but not used\n",
      "WARNING: Token 'EXTENDS' defined, but not used\n",
      "WARNING: Token 'IMPORT' defined, but not used\n",
      "WARNING: Token 'SUPER' defined, but not used\n",
      "WARNING: There are 10 unused tokens\n",
      "WARNING: Couldn't create <module 'slimit.yacctab' from '/anaconda3/lib/python3.6/site-packages/slimit/yacctab.py'>. Won't overwrite existing tabmodule\n"
     ]
    },
    {
     "name": "stdout",
     "output_type": "stream",
     "text": [
      "to find\n"
     ]
    },
    {
     "name": "stderr",
     "output_type": "stream",
     "text": [
      "WARNING: Couldn't write lextab module <module 'slimit.lextab' from '/anaconda3/lib/python3.6/site-packages/slimit/lextab.py'>. Won't overwrite existing lextab module\n",
      "WARNING: yacc table file version is out of date\n",
      "WARNING: Token 'LINE_COMMENT' defined, but not used\n",
      "WARNING: Token 'BLOCK_COMMENT' defined, but not used\n",
      "WARNING: Token 'LINE_TERMINATOR' defined, but not used\n",
      "WARNING: Token 'CLASS' defined, but not used\n",
      "WARNING: Token 'CONST' defined, but not used\n",
      "WARNING: Token 'ENUM' defined, but not used\n",
      "WARNING: Token 'EXPORT' defined, but not used\n",
      "WARNING: Token 'EXTENDS' defined, but not used\n",
      "WARNING: Token 'IMPORT' defined, but not used\n",
      "WARNING: Token 'SUPER' defined, but not used\n",
      "WARNING: There are 10 unused tokens\n",
      "WARNING: Couldn't create <module 'slimit.yacctab' from '/anaconda3/lib/python3.6/site-packages/slimit/yacctab.py'>. Won't overwrite existing tabmodule\n"
     ]
    },
    {
     "name": "stdout",
     "output_type": "stream",
     "text": [
      "/m/beauty_and_the_beast_2017\n"
     ]
    },
    {
     "name": "stderr",
     "output_type": "stream",
     "text": [
      "WARNING: Couldn't write lextab module <module 'slimit.lextab' from '/anaconda3/lib/python3.6/site-packages/slimit/lextab.py'>. Won't overwrite existing lextab module\n",
      "WARNING: yacc table file version is out of date\n",
      "WARNING: Token 'LINE_COMMENT' defined, but not used\n",
      "WARNING: Token 'BLOCK_COMMENT' defined, but not used\n",
      "WARNING: Token 'LINE_TERMINATOR' defined, but not used\n",
      "WARNING: Token 'CLASS' defined, but not used\n",
      "WARNING: Token 'CONST' defined, but not used\n",
      "WARNING: Token 'ENUM' defined, but not used\n",
      "WARNING: Token 'EXPORT' defined, but not used\n",
      "WARNING: Token 'EXTENDS' defined, but not used\n",
      "WARNING: Token 'IMPORT' defined, but not used\n",
      "WARNING: Token 'SUPER' defined, but not used\n",
      "WARNING: There are 10 unused tokens\n",
      "WARNING: Couldn't create <module 'slimit.yacctab' from '/anaconda3/lib/python3.6/site-packages/slimit/yacctab.py'>. Won't overwrite existing tabmodule\n"
     ]
    },
    {
     "name": "stdout",
     "output_type": "stream",
     "text": [
      "to find\n"
     ]
    },
    {
     "name": "stderr",
     "output_type": "stream",
     "text": [
      "WARNING: Couldn't write lextab module <module 'slimit.lextab' from '/anaconda3/lib/python3.6/site-packages/slimit/lextab.py'>. Won't overwrite existing lextab module\n",
      "WARNING: yacc table file version is out of date\n",
      "WARNING: Token 'LINE_COMMENT' defined, but not used\n",
      "WARNING: Token 'BLOCK_COMMENT' defined, but not used\n",
      "WARNING: Token 'LINE_TERMINATOR' defined, but not used\n",
      "WARNING: Token 'CLASS' defined, but not used\n",
      "WARNING: Token 'CONST' defined, but not used\n",
      "WARNING: Token 'ENUM' defined, but not used\n",
      "WARNING: Token 'EXPORT' defined, but not used\n",
      "WARNING: Token 'EXTENDS' defined, but not used\n",
      "WARNING: Token 'IMPORT' defined, but not used\n",
      "WARNING: Token 'SUPER' defined, but not used\n",
      "WARNING: There are 10 unused tokens\n",
      "WARNING: Couldn't create <module 'slimit.yacctab' from '/anaconda3/lib/python3.6/site-packages/slimit/yacctab.py'>. Won't overwrite existing tabmodule\n",
      "WARNING: Couldn't write lextab module <module 'slimit.lextab' from '/anaconda3/lib/python3.6/site-packages/slimit/lextab.py'>. Won't overwrite existing lextab module\n",
      "WARNING: yacc table file version is out of date\n",
      "WARNING: Token 'LINE_COMMENT' defined, but not used\n",
      "WARNING: Token 'BLOCK_COMMENT' defined, but not used\n",
      "WARNING: Token 'LINE_TERMINATOR' defined, but not used\n",
      "WARNING: Token 'CLASS' defined, but not used\n"
     ]
    },
    {
     "name": "stdout",
     "output_type": "stream",
     "text": [
      "to find\n"
     ]
    },
    {
     "name": "stderr",
     "output_type": "stream",
     "text": [
      "WARNING: Token 'CONST' defined, but not used\n",
      "WARNING: Token 'ENUM' defined, but not used\n",
      "WARNING: Token 'EXPORT' defined, but not used\n",
      "WARNING: Token 'EXTENDS' defined, but not used\n",
      "WARNING: Token 'IMPORT' defined, but not used\n",
      "WARNING: Token 'SUPER' defined, but not used\n",
      "WARNING: There are 10 unused tokens\n",
      "WARNING: Couldn't create <module 'slimit.yacctab' from '/anaconda3/lib/python3.6/site-packages/slimit/yacctab.py'>. Won't overwrite existing tabmodule\n",
      "WARNING: Couldn't write lextab module <module 'slimit.lextab' from '/anaconda3/lib/python3.6/site-packages/slimit/lextab.py'>. Won't overwrite existing lextab module\n",
      "WARNING: yacc table file version is out of date\n"
     ]
    },
    {
     "name": "stdout",
     "output_type": "stream",
     "text": [
      "to find\n"
     ]
    },
    {
     "name": "stderr",
     "output_type": "stream",
     "text": [
      "WARNING: Token 'LINE_COMMENT' defined, but not used\n",
      "WARNING: Token 'BLOCK_COMMENT' defined, but not used\n",
      "WARNING: Token 'LINE_TERMINATOR' defined, but not used\n",
      "WARNING: Token 'CLASS' defined, but not used\n",
      "WARNING: Token 'CONST' defined, but not used\n",
      "WARNING: Token 'ENUM' defined, but not used\n",
      "WARNING: Token 'EXPORT' defined, but not used\n",
      "WARNING: Token 'EXTENDS' defined, but not used\n",
      "WARNING: Token 'IMPORT' defined, but not used\n",
      "WARNING: Token 'SUPER' defined, but not used\n",
      "WARNING: There are 10 unused tokens\n",
      "WARNING: Couldn't create <module 'slimit.yacctab' from '/anaconda3/lib/python3.6/site-packages/slimit/yacctab.py'>. Won't overwrite existing tabmodule\n",
      "WARNING: Couldn't write lextab module <module 'slimit.lextab' from '/anaconda3/lib/python3.6/site-packages/slimit/lextab.py'>. Won't overwrite existing lextab module\n",
      "WARNING: yacc table file version is out of date\n",
      "WARNING: Token 'LINE_COMMENT' defined, but not used\n",
      "WARNING: Token 'BLOCK_COMMENT' defined, but not used\n",
      "WARNING: Token 'LINE_TERMINATOR' defined, but not used\n",
      "WARNING: Token 'CLASS' defined, but not used\n",
      "WARNING: Token 'CONST' defined, but not used\n",
      "WARNING: Token 'ENUM' defined, but not used\n",
      "WARNING: Token 'EXPORT' defined, but not used\n",
      "WARNING: Token 'EXTENDS' defined, but not used\n"
     ]
    },
    {
     "name": "stdout",
     "output_type": "stream",
     "text": [
      "to find\n"
     ]
    },
    {
     "name": "stderr",
     "output_type": "stream",
     "text": [
      "WARNING: Token 'IMPORT' defined, but not used\n",
      "WARNING: Token 'SUPER' defined, but not used\n",
      "WARNING: There are 10 unused tokens\n",
      "WARNING: Couldn't create <module 'slimit.yacctab' from '/anaconda3/lib/python3.6/site-packages/slimit/yacctab.py'>. Won't overwrite existing tabmodule\n"
     ]
    },
    {
     "name": "stdout",
     "output_type": "stream",
     "text": [
      "/m/beauty_and_the_beast_1991\n"
     ]
    },
    {
     "name": "stderr",
     "output_type": "stream",
     "text": [
      "WARNING: Couldn't write lextab module <module 'slimit.lextab' from '/anaconda3/lib/python3.6/site-packages/slimit/lextab.py'>. Won't overwrite existing lextab module\n",
      "WARNING: yacc table file version is out of date\n",
      "WARNING: Token 'LINE_COMMENT' defined, but not used\n",
      "WARNING: Token 'BLOCK_COMMENT' defined, but not used\n",
      "WARNING: Token 'LINE_TERMINATOR' defined, but not used\n",
      "WARNING: Token 'CLASS' defined, but not used\n",
      "WARNING: Token 'CONST' defined, but not used\n",
      "WARNING: Token 'ENUM' defined, but not used\n",
      "WARNING: Token 'EXPORT' defined, but not used\n",
      "WARNING: Token 'EXTENDS' defined, but not used\n",
      "WARNING: Token 'IMPORT' defined, but not used\n",
      "WARNING: Token 'SUPER' defined, but not used\n",
      "WARNING: There are 10 unused tokens\n",
      "WARNING: Couldn't create <module 'slimit.yacctab' from '/anaconda3/lib/python3.6/site-packages/slimit/yacctab.py'>. Won't overwrite existing tabmodule\n",
      "WARNING: Couldn't write lextab module <module 'slimit.lextab' from '/anaconda3/lib/python3.6/site-packages/slimit/lextab.py'>. Won't overwrite existing lextab module\n",
      "WARNING: yacc table file version is out of date\n",
      "WARNING: Token 'LINE_COMMENT' defined, but not used\n",
      "WARNING: Token 'BLOCK_COMMENT' defined, but not used\n",
      "WARNING: Token 'LINE_TERMINATOR' defined, but not used\n",
      "WARNING: Token 'CLASS' defined, but not used\n"
     ]
    },
    {
     "name": "stdout",
     "output_type": "stream",
     "text": [
      "/m/passion_of_the_christ\n"
     ]
    },
    {
     "name": "stderr",
     "output_type": "stream",
     "text": [
      "WARNING: Token 'CONST' defined, but not used\n",
      "WARNING: Token 'ENUM' defined, but not used\n",
      "WARNING: Token 'EXPORT' defined, but not used\n",
      "WARNING: Token 'EXTENDS' defined, but not used\n",
      "WARNING: Token 'IMPORT' defined, but not used\n",
      "WARNING: Token 'SUPER' defined, but not used\n",
      "WARNING: There are 10 unused tokens\n",
      "WARNING: Couldn't create <module 'slimit.yacctab' from '/anaconda3/lib/python3.6/site-packages/slimit/yacctab.py'>. Won't overwrite existing tabmodule\n"
     ]
    },
    {
     "name": "stdout",
     "output_type": "stream",
     "text": [
      "/m/the_jungle_book_2016\n"
     ]
    },
    {
     "name": "stderr",
     "output_type": "stream",
     "text": [
      "WARNING: Couldn't write lextab module <module 'slimit.lextab' from '/anaconda3/lib/python3.6/site-packages/slimit/lextab.py'>. Won't overwrite existing lextab module\n",
      "WARNING: yacc table file version is out of date\n",
      "WARNING: Token 'LINE_COMMENT' defined, but not used\n",
      "WARNING: Token 'BLOCK_COMMENT' defined, but not used\n",
      "WARNING: Token 'LINE_TERMINATOR' defined, but not used\n",
      "WARNING: Token 'CLASS' defined, but not used\n",
      "WARNING: Token 'CONST' defined, but not used\n",
      "WARNING: Token 'ENUM' defined, but not used\n",
      "WARNING: Token 'EXPORT' defined, but not used\n",
      "WARNING: Token 'EXTENDS' defined, but not used\n",
      "WARNING: Token 'IMPORT' defined, but not used\n",
      "WARNING: Token 'SUPER' defined, but not used\n",
      "WARNING: There are 10 unused tokens\n",
      "WARNING: Couldn't create <module 'slimit.yacctab' from '/anaconda3/lib/python3.6/site-packages/slimit/yacctab.py'>. Won't overwrite existing tabmodule\n"
     ]
    },
    {
     "name": "stdout",
     "output_type": "stream",
     "text": [
      "/m/inside_out_2015\n"
     ]
    },
    {
     "name": "stderr",
     "output_type": "stream",
     "text": [
      "WARNING: Couldn't write lextab module <module 'slimit.lextab' from '/anaconda3/lib/python3.6/site-packages/slimit/lextab.py'>. Won't overwrite existing lextab module\n",
      "WARNING: yacc table file version is out of date\n",
      "WARNING: Token 'LINE_COMMENT' defined, but not used\n",
      "WARNING: Token 'BLOCK_COMMENT' defined, but not used\n",
      "WARNING: Token 'LINE_TERMINATOR' defined, but not used\n",
      "WARNING: Token 'CLASS' defined, but not used\n",
      "WARNING: Token 'CONST' defined, but not used\n",
      "WARNING: Token 'ENUM' defined, but not used\n",
      "WARNING: Token 'EXPORT' defined, but not used\n",
      "WARNING: Token 'EXTENDS' defined, but not used\n",
      "WARNING: Token 'IMPORT' defined, but not used\n",
      "WARNING: Token 'SUPER' defined, but not used\n",
      "WARNING: There are 10 unused tokens\n",
      "WARNING: Couldn't create <module 'slimit.yacctab' from '/anaconda3/lib/python3.6/site-packages/slimit/yacctab.py'>. Won't overwrite existing tabmodule\n"
     ]
    },
    {
     "name": "stdout",
     "output_type": "stream",
     "text": [
      "/m/spider_man_homecoming\n"
     ]
    },
    {
     "name": "stderr",
     "output_type": "stream",
     "text": [
      "WARNING: Couldn't write lextab module <module 'slimit.lextab' from '/anaconda3/lib/python3.6/site-packages/slimit/lextab.py'>. Won't overwrite existing lextab module\n",
      "WARNING: yacc table file version is out of date\n",
      "WARNING: Token 'LINE_COMMENT' defined, but not used\n",
      "WARNING: Token 'BLOCK_COMMENT' defined, but not used\n",
      "WARNING: Token 'LINE_TERMINATOR' defined, but not used\n",
      "WARNING: Token 'CLASS' defined, but not used\n",
      "WARNING: Token 'CONST' defined, but not used\n",
      "WARNING: Token 'ENUM' defined, but not used\n",
      "WARNING: Token 'EXPORT' defined, but not used\n",
      "WARNING: Token 'EXTENDS' defined, but not used\n",
      "WARNING: Token 'IMPORT' defined, but not used\n",
      "WARNING: Token 'SUPER' defined, but not used\n",
      "WARNING: There are 10 unused tokens\n",
      "WARNING: Couldn't create <module 'slimit.yacctab' from '/anaconda3/lib/python3.6/site-packages/slimit/yacctab.py'>. Won't overwrite existing tabmodule\n"
     ]
    },
    {
     "name": "stdout",
     "output_type": "stream",
     "text": [
      "/m/1221547-alice_in_wonderland\n"
     ]
    },
    {
     "name": "stderr",
     "output_type": "stream",
     "text": [
      "WARNING: Couldn't write lextab module <module 'slimit.lextab' from '/anaconda3/lib/python3.6/site-packages/slimit/lextab.py'>. Won't overwrite existing lextab module\n",
      "WARNING: yacc table file version is out of date\n",
      "WARNING: Token 'LINE_COMMENT' defined, but not used\n",
      "WARNING: Token 'BLOCK_COMMENT' defined, but not used\n",
      "WARNING: Token 'LINE_TERMINATOR' defined, but not used\n",
      "WARNING: Token 'CLASS' defined, but not used\n",
      "WARNING: Token 'CONST' defined, but not used\n",
      "WARNING: Token 'ENUM' defined, but not used\n",
      "WARNING: Token 'EXPORT' defined, but not used\n",
      "WARNING: Token 'EXTENDS' defined, but not used\n",
      "WARNING: Token 'IMPORT' defined, but not used\n",
      "WARNING: Token 'SUPER' defined, but not used\n",
      "WARNING: There are 10 unused tokens\n",
      "WARNING: Couldn't create <module 'slimit.yacctab' from '/anaconda3/lib/python3.6/site-packages/slimit/yacctab.py'>. Won't overwrite existing tabmodule\n"
     ]
    },
    {
     "name": "stdout",
     "output_type": "stream",
     "text": [
      "to find\n"
     ]
    },
    {
     "name": "stderr",
     "output_type": "stream",
     "text": [
      "WARNING: Couldn't write lextab module <module 'slimit.lextab' from '/anaconda3/lib/python3.6/site-packages/slimit/lextab.py'>. Won't overwrite existing lextab module\n",
      "WARNING: yacc table file version is out of date\n",
      "WARNING: Token 'LINE_COMMENT' defined, but not used\n",
      "WARNING: Token 'BLOCK_COMMENT' defined, but not used\n",
      "WARNING: Token 'LINE_TERMINATOR' defined, but not used\n",
      "WARNING: Token 'CLASS' defined, but not used\n",
      "WARNING: Token 'CONST' defined, but not used\n",
      "WARNING: Token 'ENUM' defined, but not used\n",
      "WARNING: Token 'EXPORT' defined, but not used\n",
      "WARNING: Token 'EXTENDS' defined, but not used\n",
      "WARNING: Token 'IMPORT' defined, but not used\n",
      "WARNING: Token 'SUPER' defined, but not used\n",
      "WARNING: There are 10 unused tokens\n",
      "WARNING: Couldn't create <module 'slimit.yacctab' from '/anaconda3/lib/python3.6/site-packages/slimit/yacctab.py'>. Won't overwrite existing tabmodule\n"
     ]
    },
    {
     "name": "stdout",
     "output_type": "stream",
     "text": [
      "/m/suicide_squad_2016\n"
     ]
    },
    {
     "name": "stderr",
     "output_type": "stream",
     "text": [
      "WARNING: Couldn't write lextab module <module 'slimit.lextab' from '/anaconda3/lib/python3.6/site-packages/slimit/lextab.py'>. Won't overwrite existing lextab module\n",
      "WARNING: yacc table file version is out of date\n",
      "WARNING: Token 'LINE_COMMENT' defined, but not used\n",
      "WARNING: Token 'BLOCK_COMMENT' defined, but not used\n",
      "WARNING: Token 'LINE_TERMINATOR' defined, but not used\n",
      "WARNING: Token 'CLASS' defined, but not used\n",
      "WARNING: Token 'CONST' defined, but not used\n",
      "WARNING: Token 'ENUM' defined, but not used\n",
      "WARNING: Token 'EXPORT' defined, but not used\n",
      "WARNING: Token 'EXTENDS' defined, but not used\n",
      "WARNING: Token 'IMPORT' defined, but not used\n",
      "WARNING: Token 'SUPER' defined, but not used\n",
      "WARNING: There are 10 unused tokens\n",
      "WARNING: Couldn't create <module 'slimit.yacctab' from '/anaconda3/lib/python3.6/site-packages/slimit/yacctab.py'>. Won't overwrite existing tabmodule\n"
     ]
    },
    {
     "name": "stdout",
     "output_type": "stream",
     "text": [
      "to find\n"
     ]
    },
    {
     "name": "stderr",
     "output_type": "stream",
     "text": [
      "WARNING: Couldn't write lextab module <module 'slimit.lextab' from '/anaconda3/lib/python3.6/site-packages/slimit/lextab.py'>. Won't overwrite existing lextab module\n",
      "WARNING: yacc table file version is out of date\n",
      "WARNING: Token 'LINE_COMMENT' defined, but not used\n",
      "WARNING: Token 'BLOCK_COMMENT' defined, but not used\n",
      "WARNING: Token 'LINE_TERMINATOR' defined, but not used\n",
      "WARNING: Token 'CLASS' defined, but not used\n",
      "WARNING: Token 'CONST' defined, but not used\n",
      "WARNING: Token 'ENUM' defined, but not used\n",
      "WARNING: Token 'EXPORT' defined, but not used\n",
      "WARNING: Token 'EXTENDS' defined, but not used\n",
      "WARNING: Token 'IMPORT' defined, but not used\n",
      "WARNING: Token 'SUPER' defined, but not used\n",
      "WARNING: There are 10 unused tokens\n",
      "WARNING: Couldn't create <module 'slimit.yacctab' from '/anaconda3/lib/python3.6/site-packages/slimit/yacctab.py'>. Won't overwrite existing tabmodule\n"
     ]
    },
    {
     "name": "stdout",
     "output_type": "stream",
     "text": [
      "to find\n"
     ]
    },
    {
     "name": "stderr",
     "output_type": "stream",
     "text": [
      "WARNING: Couldn't write lextab module <module 'slimit.lextab' from '/anaconda3/lib/python3.6/site-packages/slimit/lextab.py'>. Won't overwrite existing lextab module\n",
      "WARNING: yacc table file version is out of date\n",
      "WARNING: Token 'LINE_COMMENT' defined, but not used\n",
      "WARNING: Token 'BLOCK_COMMENT' defined, but not used\n",
      "WARNING: Token 'LINE_TERMINATOR' defined, but not used\n",
      "WARNING: Token 'CLASS' defined, but not used\n",
      "WARNING: Token 'CONST' defined, but not used\n",
      "WARNING: Token 'ENUM' defined, but not used\n",
      "WARNING: Token 'EXPORT' defined, but not used\n",
      "WARNING: Token 'EXTENDS' defined, but not used\n",
      "WARNING: Token 'IMPORT' defined, but not used\n",
      "WARNING: Token 'SUPER' defined, but not used\n",
      "WARNING: There are 10 unused tokens\n",
      "WARNING: Couldn't create <module 'slimit.yacctab' from '/anaconda3/lib/python3.6/site-packages/slimit/yacctab.py'>. Won't overwrite existing tabmodule\n"
     ]
    },
    {
     "name": "stdout",
     "output_type": "stream",
     "text": [
      "to find\n"
     ]
    },
    {
     "name": "stderr",
     "output_type": "stream",
     "text": [
      "WARNING: Couldn't write lextab module <module 'slimit.lextab' from '/anaconda3/lib/python3.6/site-packages/slimit/lextab.py'>. Won't overwrite existing lextab module\n",
      "WARNING: yacc table file version is out of date\n",
      "WARNING: Token 'LINE_COMMENT' defined, but not used\n",
      "WARNING: Token 'BLOCK_COMMENT' defined, but not used\n",
      "WARNING: Token 'LINE_TERMINATOR' defined, but not used\n",
      "WARNING: Token 'CLASS' defined, but not used\n",
      "WARNING: Token 'CONST' defined, but not used\n",
      "WARNING: Token 'ENUM' defined, but not used\n",
      "WARNING: Token 'EXPORT' defined, but not used\n",
      "WARNING: Token 'EXTENDS' defined, but not used\n",
      "WARNING: Token 'IMPORT' defined, but not used\n",
      "WARNING: Token 'SUPER' defined, but not used\n",
      "WARNING: There are 10 unused tokens\n",
      "WARNING: Couldn't create <module 'slimit.yacctab' from '/anaconda3/lib/python3.6/site-packages/slimit/yacctab.py'>. Won't overwrite existing tabmodule\n"
     ]
    },
    {
     "name": "stdout",
     "output_type": "stream",
     "text": [
      "/m/1071806-independence_day\n"
     ]
    },
    {
     "name": "stderr",
     "output_type": "stream",
     "text": [
      "WARNING: Couldn't write lextab module <module 'slimit.lextab' from '/anaconda3/lib/python3.6/site-packages/slimit/lextab.py'>. Won't overwrite existing lextab module\n",
      "WARNING: yacc table file version is out of date\n",
      "WARNING: Token 'LINE_COMMENT' defined, but not used\n",
      "WARNING: Token 'BLOCK_COMMENT' defined, but not used\n",
      "WARNING: Token 'LINE_TERMINATOR' defined, but not used\n",
      "WARNING: Token 'CLASS' defined, but not used\n",
      "WARNING: Token 'CONST' defined, but not used\n",
      "WARNING: Token 'ENUM' defined, but not used\n",
      "WARNING: Token 'EXPORT' defined, but not used\n",
      "WARNING: Token 'EXTENDS' defined, but not used\n",
      "WARNING: Token 'IMPORT' defined, but not used\n",
      "WARNING: Token 'SUPER' defined, but not used\n",
      "WARNING: There are 10 unused tokens\n",
      "WARNING: Couldn't create <module 'slimit.yacctab' from '/anaconda3/lib/python3.6/site-packages/slimit/yacctab.py'>. Won't overwrite existing tabmodule\n"
     ]
    },
    {
     "name": "stdout",
     "output_type": "stream",
     "text": [
      "/m/harry_potter_and_the_half_blood_prince\n"
     ]
    },
    {
     "name": "stderr",
     "output_type": "stream",
     "text": [
      "WARNING: Couldn't write lextab module <module 'slimit.lextab' from '/anaconda3/lib/python3.6/site-packages/slimit/lextab.py'>. Won't overwrite existing lextab module\n",
      "WARNING: yacc table file version is out of date\n",
      "WARNING: Token 'LINE_COMMENT' defined, but not used\n",
      "WARNING: Token 'BLOCK_COMMENT' defined, but not used\n",
      "WARNING: Token 'LINE_TERMINATOR' defined, but not used\n",
      "WARNING: Token 'CLASS' defined, but not used\n",
      "WARNING: Token 'CONST' defined, but not used\n",
      "WARNING: Token 'ENUM' defined, but not used\n",
      "WARNING: Token 'EXPORT' defined, but not used\n",
      "WARNING: Token 'EXTENDS' defined, but not used\n",
      "WARNING: Token 'IMPORT' defined, but not used\n",
      "WARNING: Token 'SUPER' defined, but not used\n",
      "WARNING: There are 10 unused tokens\n",
      "WARNING: Couldn't create <module 'slimit.yacctab' from '/anaconda3/lib/python3.6/site-packages/slimit/yacctab.py'>. Won't overwrite existing tabmodule\n"
     ]
    },
    {
     "name": "stdout",
     "output_type": "stream",
     "text": [
      "/m/sixth_sense\n"
     ]
    },
    {
     "name": "stderr",
     "output_type": "stream",
     "text": [
      "WARNING: Couldn't write lextab module <module 'slimit.lextab' from '/anaconda3/lib/python3.6/site-packages/slimit/lextab.py'>. Won't overwrite existing lextab module\n",
      "WARNING: yacc table file version is out of date\n",
      "WARNING: Token 'LINE_COMMENT' defined, but not used\n",
      "WARNING: Token 'BLOCK_COMMENT' defined, but not used\n",
      "WARNING: Token 'LINE_TERMINATOR' defined, but not used\n",
      "WARNING: Token 'CLASS' defined, but not used\n",
      "WARNING: Token 'CONST' defined, but not used\n",
      "WARNING: Token 'ENUM' defined, but not used\n",
      "WARNING: Token 'EXPORT' defined, but not used\n",
      "WARNING: Token 'EXTENDS' defined, but not used\n",
      "WARNING: Token 'IMPORT' defined, but not used\n",
      "WARNING: Token 'SUPER' defined, but not used\n",
      "WARNING: There are 10 unused tokens\n",
      "WARNING: Couldn't create <module 'slimit.yacctab' from '/anaconda3/lib/python3.6/site-packages/slimit/yacctab.py'>. Won't overwrite existing tabmodule\n",
      "WARNING: Couldn't write lextab module <module 'slimit.lextab' from '/anaconda3/lib/python3.6/site-packages/slimit/lextab.py'>. Won't overwrite existing lextab module\n",
      "WARNING: yacc table file version is out of date\n",
      "WARNING: Token 'LINE_COMMENT' defined, but not used\n",
      "WARNING: Token 'BLOCK_COMMENT' defined, but not used\n",
      "WARNING: Token 'LINE_TERMINATOR' defined, but not used\n",
      "WARNING: Token 'CLASS' defined, but not used\n",
      "WARNING: Token 'CONST' defined, but not used\n",
      "WARNING: Token 'ENUM' defined, but not used\n",
      "WARNING: Token 'EXPORT' defined, but not used\n"
     ]
    },
    {
     "name": "stdout",
     "output_type": "stream",
     "text": [
      "to find\n"
     ]
    },
    {
     "name": "stderr",
     "output_type": "stream",
     "text": [
      "WARNING: Token 'EXTENDS' defined, but not used\n",
      "WARNING: Token 'IMPORT' defined, but not used\n",
      "WARNING: Token 'SUPER' defined, but not used\n",
      "WARNING: There are 10 unused tokens\n",
      "WARNING: Couldn't create <module 'slimit.yacctab' from '/anaconda3/lib/python3.6/site-packages/slimit/yacctab.py'>. Won't overwrite existing tabmodule\n"
     ]
    },
    {
     "name": "stdout",
     "output_type": "stream",
     "text": [
      "/m/superman_man_of_steel\n"
     ]
    },
    {
     "name": "stderr",
     "output_type": "stream",
     "text": [
      "WARNING: Couldn't write lextab module <module 'slimit.lextab' from '/anaconda3/lib/python3.6/site-packages/slimit/lextab.py'>. Won't overwrite existing lextab module\n",
      "WARNING: yacc table file version is out of date\n",
      "WARNING: Token 'LINE_COMMENT' defined, but not used\n",
      "WARNING: Token 'BLOCK_COMMENT' defined, but not used\n",
      "WARNING: Token 'LINE_TERMINATOR' defined, but not used\n",
      "WARNING: Token 'CLASS' defined, but not used\n",
      "WARNING: Token 'CONST' defined, but not used\n",
      "WARNING: Token 'ENUM' defined, but not used\n",
      "WARNING: Token 'EXPORT' defined, but not used\n",
      "WARNING: Token 'EXTENDS' defined, but not used\n",
      "WARNING: Token 'IMPORT' defined, but not used\n",
      "WARNING: Token 'SUPER' defined, but not used\n",
      "WARNING: There are 10 unused tokens\n",
      "WARNING: Couldn't create <module 'slimit.yacctab' from '/anaconda3/lib/python3.6/site-packages/slimit/yacctab.py'>. Won't overwrite existing tabmodule\n",
      "WARNING: Couldn't write lextab module <module 'slimit.lextab' from '/anaconda3/lib/python3.6/site-packages/slimit/lextab.py'>. Won't overwrite existing lextab module\n",
      "WARNING: yacc table file version is out of date\n",
      "WARNING: Token 'LINE_COMMENT' defined, but not used\n",
      "WARNING: Token 'BLOCK_COMMENT' defined, but not used\n",
      "WARNING: Token 'LINE_TERMINATOR' defined, but not used\n",
      "WARNING: Token 'CLASS' defined, but not used\n"
     ]
    },
    {
     "name": "stdout",
     "output_type": "stream",
     "text": [
      "to find\n",
      "/m/gravity_2013\n"
     ]
    },
    {
     "name": "stderr",
     "output_type": "stream",
     "text": [
      "WARNING: Token 'CONST' defined, but not used\n",
      "WARNING: Token 'ENUM' defined, but not used\n",
      "WARNING: Token 'EXPORT' defined, but not used\n",
      "WARNING: Token 'EXTENDS' defined, but not used\n",
      "WARNING: Token 'IMPORT' defined, but not used\n",
      "WARNING: Token 'SUPER' defined, but not used\n",
      "WARNING: There are 10 unused tokens\n",
      "WARNING: Couldn't create <module 'slimit.yacctab' from '/anaconda3/lib/python3.6/site-packages/slimit/yacctab.py'>. Won't overwrite existing tabmodule\n"
     ]
    }
   ],
   "source": [
    "for index, row in goal_list.iterrows():\n",
    "    url_try = base_url + row['name']\n",
    "    data = get_movie_list(url_try)\n",
    "    url_find = get_movie_url(data, row['name'], row['year'])\n",
    "    print(url_find)"
   ]
  },
  {
   "cell_type": "code",
   "execution_count": 163,
   "metadata": {},
   "outputs": [
    {
     "name": "stderr",
     "output_type": "stream",
     "text": [
      "WARNING: Couldn't write lextab module <module 'slimit.lextab' from '/anaconda3/lib/python3.6/site-packages/slimit/lextab.py'>. Won't overwrite existing lextab module\n",
      "WARNING: yacc table file version is out of date\n",
      "WARNING: Token 'LINE_COMMENT' defined, but not used\n",
      "WARNING: Token 'BLOCK_COMMENT' defined, but not used\n",
      "WARNING: Token 'LINE_TERMINATOR' defined, but not used\n",
      "WARNING: Token 'CLASS' defined, but not used\n",
      "WARNING: Token 'CONST' defined, but not used\n",
      "WARNING: Token 'ENUM' defined, but not used\n",
      "WARNING: Token 'EXPORT' defined, but not used\n",
      "WARNING: Token 'EXTENDS' defined, but not used\n",
      "WARNING: Token 'IMPORT' defined, but not used\n",
      "WARNING: Token 'SUPER' defined, but not used\n",
      "WARNING: There are 10 unused tokens\n",
      "WARNING: Couldn't create <module 'slimit.yacctab' from '/anaconda3/lib/python3.6/site-packages/slimit/yacctab.py'>. Won't overwrite existing tabmodule\n"
     ]
    }
   ],
   "source": [
    "text = new_data\n",
    "parser = Parser()\n",
    "tree = parser.parse(text)"
   ]
  },
  {
   "cell_type": "code",
   "execution_count": 149,
   "metadata": {
    "collapsed": true
   },
   "outputs": [],
   "source": [
    "fields = []\n",
    "for node in nodevisitor.visit(tree):\n",
    "    if isinstance(node, ast.Assign):\n",
    "        try:\n",
    "            field = {str(node.left.value).replace('\"',''): str(node.right.value).replace('\"','')}\n",
    "            fields.append(field)   \n",
    "        except:\n",
    "            pass"
   ]
  },
  {
   "cell_type": "code",
   "execution_count": 162,
   "metadata": {},
   "outputs": [
    {
     "name": "stdout",
     "output_type": "stream",
     "text": [
      "{'year': '1977'}\n",
      "....\n",
      "{'year': '2018'}\n",
      "/m/black_panther_2018\n",
      "....\n"
     ]
    }
   ],
   "source": [
    "for index, field in enumerate(fields):\n",
    "    #print(field)\n",
    "    try:\n",
    "        if(field['name'] == 'Black Panther'):\n",
    "            year = fields[index + 1]\n",
    "            print(year)\n",
    "            url = fields[index + 2]\n",
    "            if year['year'] == '2018':\n",
    "                url_b = url['url']\n",
    "                print(url_b)\n",
    "                \n",
    "            print('....')\n",
    "    except:\n",
    "        pass"
   ]
  },
  {
   "cell_type": "code",
   "execution_count": null,
   "metadata": {
    "collapsed": true
   },
   "outputs": [],
   "source": []
  }
 ],
 "metadata": {
  "kernelspec": {
   "display_name": "Python 3",
   "language": "python",
   "name": "python3"
  },
  "language_info": {
   "codemirror_mode": {
    "name": "ipython",
    "version": 3
   },
   "file_extension": ".py",
   "mimetype": "text/x-python",
   "name": "python",
   "nbconvert_exporter": "python",
   "pygments_lexer": "ipython3",
   "version": "3.6.3"
  }
 },
 "nbformat": 4,
 "nbformat_minor": 2
}
